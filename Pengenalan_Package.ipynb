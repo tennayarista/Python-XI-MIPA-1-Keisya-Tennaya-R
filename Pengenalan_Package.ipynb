{
  "nbformat": 4,
  "nbformat_minor": 0,
  "metadata": {
    "colab": {
      "name": "Pengenalan Package.ipynb",
      "provenance": [],
      "collapsed_sections": [],
      "mount_file_id": "1M3plUvFAgC_XG7e6cy1CvGYi8t_jSfda",
      "authorship_tag": "ABX9TyPEkWiLETxTwg1jzd08yDpX",
      "include_colab_link": true
    },
    "kernelspec": {
      "name": "python3",
      "display_name": "Python 3"
    },
    "language_info": {
      "name": "python"
    }
  },
  "cells": [
    {
      "cell_type": "markdown",
      "metadata": {
        "id": "view-in-github",
        "colab_type": "text"
      },
      "source": [
        "<a href=\"https://colab.research.google.com/github/tennayarista/Python-XI-MIPA-1-Keisya-Tennaya-R/blob/master/Pengenalan_Package.ipynb\" target=\"_parent\"><img src=\"https://colab.research.google.com/assets/colab-badge.svg\" alt=\"Open In Colab\"/></a>"
      ]
    },
    {
      "cell_type": "markdown",
      "metadata": {
        "id": "5DbFeBx_Cw9d"
      },
      "source": [
        "# Membahas 4 package \n",
        "\n",
        "1. Numpy \n",
        "2. Pandas \n",
        "3. Matplotlib, Seaborn\n",
        "4. Scikit-learn\n",
        "\n"
      ]
    },
    {
      "cell_type": "markdown",
      "metadata": {
        "id": "T_IBWqH5HMA3"
      },
      "source": [
        "#Numpy"
      ]
    },
    {
      "cell_type": "code",
      "metadata": {
        "id": "xKm1Rik8CpGF"
      },
      "source": [
        "import numpy as np"
      ],
      "execution_count": 1,
      "outputs": []
    },
    {
      "cell_type": "code",
      "metadata": {
        "colab": {
          "base_uri": "https://localhost:8080/"
        },
        "id": "B1A2A9TADSSp",
        "outputId": "903c446a-6706-479a-e91e-eda801aac9bf"
      },
      "source": [
        "arr = np.array([2,3,4])\n",
        "arr"
      ],
      "execution_count": 2,
      "outputs": [
        {
          "output_type": "execute_result",
          "data": {
            "text/plain": [
              "array([2, 3, 4])"
            ]
          },
          "metadata": {
            "tags": []
          },
          "execution_count": 2
        }
      ]
    },
    {
      "cell_type": "code",
      "metadata": {
        "colab": {
          "base_uri": "https://localhost:8080/"
        },
        "id": "dZLGkNnSD7mP",
        "outputId": "ac36bd32-c4ae-4bed-c758-723eaa46c779"
      },
      "source": [
        "mat = np.array([[2,3,4],[4,5,6]])\n",
        "mat"
      ],
      "execution_count": 3,
      "outputs": [
        {
          "output_type": "execute_result",
          "data": {
            "text/plain": [
              "array([[2, 3, 4],\n",
              "       [4, 5, 6]])"
            ]
          },
          "metadata": {
            "tags": []
          },
          "execution_count": 3
        }
      ]
    },
    {
      "cell_type": "code",
      "metadata": {
        "colab": {
          "base_uri": "https://localhost:8080/"
        },
        "id": "-khCTyI4FIg7",
        "outputId": "f4754c74-f1a2-4f6a-8723-183d7a3cb5aa"
      },
      "source": [
        "arr.shape"
      ],
      "execution_count": 4,
      "outputs": [
        {
          "output_type": "execute_result",
          "data": {
            "text/plain": [
              "(3,)"
            ]
          },
          "metadata": {
            "tags": []
          },
          "execution_count": 4
        }
      ]
    },
    {
      "cell_type": "code",
      "metadata": {
        "colab": {
          "base_uri": "https://localhost:8080/"
        },
        "id": "toMmR89OFMa8",
        "outputId": "d72f39e8-3ad8-4b9c-b368-685200f5211b"
      },
      "source": [
        "mat.shape"
      ],
      "execution_count": 5,
      "outputs": [
        {
          "output_type": "execute_result",
          "data": {
            "text/plain": [
              "(2, 3)"
            ]
          },
          "metadata": {
            "tags": []
          },
          "execution_count": 5
        }
      ]
    },
    {
      "cell_type": "markdown",
      "metadata": {
        "id": "MvMy5DnuF-H0"
      },
      "source": [
        "#Operasi Array"
      ]
    },
    {
      "cell_type": "code",
      "metadata": {
        "colab": {
          "base_uri": "https://localhost:8080/"
        },
        "id": "mAOv1XTjFP70",
        "outputId": "60bdee20-1640-44d2-e15d-7298e0a0ec8e"
      },
      "source": [
        "a = np.array([2,3,4])\n",
        "b = np.array([3,4,5])\n",
        "\n",
        "a-b"
      ],
      "execution_count": 6,
      "outputs": [
        {
          "output_type": "execute_result",
          "data": {
            "text/plain": [
              "array([-1, -1, -1])"
            ]
          },
          "metadata": {
            "tags": []
          },
          "execution_count": 6
        }
      ]
    },
    {
      "cell_type": "code",
      "metadata": {
        "colab": {
          "base_uri": "https://localhost:8080/"
        },
        "id": "Sq7RfWbTHjtj",
        "outputId": "ed635395-b42d-409f-9e8c-4cae647ec83a"
      },
      "source": [
        "a/b"
      ],
      "execution_count": 7,
      "outputs": [
        {
          "output_type": "execute_result",
          "data": {
            "text/plain": [
              "array([0.66666667, 0.75      , 0.8       ])"
            ]
          },
          "metadata": {
            "tags": []
          },
          "execution_count": 7
        }
      ]
    },
    {
      "cell_type": "code",
      "metadata": {
        "colab": {
          "base_uri": "https://localhost:8080/"
        },
        "id": "jCF36O1AGB3m",
        "outputId": "0300d071-fcf1-4486-a5be-3ae80ab2a710"
      },
      "source": [
        "a*b"
      ],
      "execution_count": 8,
      "outputs": [
        {
          "output_type": "execute_result",
          "data": {
            "text/plain": [
              "array([ 6, 12, 20])"
            ]
          },
          "metadata": {
            "tags": []
          },
          "execution_count": 8
        }
      ]
    },
    {
      "cell_type": "code",
      "metadata": {
        "colab": {
          "base_uri": "https://localhost:8080/"
        },
        "id": "pvhoXXFdGPe0",
        "outputId": "47e82ca3-42a0-442b-c188-b78c348c5da6"
      },
      "source": [
        "a[0]"
      ],
      "execution_count": 9,
      "outputs": [
        {
          "output_type": "execute_result",
          "data": {
            "text/plain": [
              "2"
            ]
          },
          "metadata": {
            "tags": []
          },
          "execution_count": 9
        }
      ]
    },
    {
      "cell_type": "code",
      "metadata": {
        "colab": {
          "base_uri": "https://localhost:8080/"
        },
        "id": "w2-I3iOMGTIJ",
        "outputId": "f0b220cc-f3d2-465a-d5bd-06821e3403e6"
      },
      "source": [
        "a = np.array([[2,3],[5,6],[1,2]])\n",
        "a"
      ],
      "execution_count": 10,
      "outputs": [
        {
          "output_type": "execute_result",
          "data": {
            "text/plain": [
              "array([[2, 3],\n",
              "       [5, 6],\n",
              "       [1, 2]])"
            ]
          },
          "metadata": {
            "tags": []
          },
          "execution_count": 10
        }
      ]
    },
    {
      "cell_type": "code",
      "metadata": {
        "colab": {
          "base_uri": "https://localhost:8080/"
        },
        "id": "5Hm2WPNxGlbv",
        "outputId": "651162ff-7e7d-41f3-fc37-49bb695706d0"
      },
      "source": [
        "a[1][1]"
      ],
      "execution_count": 11,
      "outputs": [
        {
          "output_type": "execute_result",
          "data": {
            "text/plain": [
              "6"
            ]
          },
          "metadata": {
            "tags": []
          },
          "execution_count": 11
        }
      ]
    },
    {
      "cell_type": "code",
      "metadata": {
        "colab": {
          "base_uri": "https://localhost:8080/"
        },
        "id": "7ba-HLPDGvbQ",
        "outputId": "6aacda34-a05b-4fdd-97d7-a0292f871e33"
      },
      "source": [
        "a[2,1]"
      ],
      "execution_count": 12,
      "outputs": [
        {
          "output_type": "execute_result",
          "data": {
            "text/plain": [
              "2"
            ]
          },
          "metadata": {
            "tags": []
          },
          "execution_count": 12
        }
      ]
    },
    {
      "cell_type": "markdown",
      "metadata": {
        "id": "yfbSQz0sH-1P"
      },
      "source": [
        "#Pandas"
      ]
    },
    {
      "cell_type": "code",
      "metadata": {
        "id": "mxmKycxzG9PR"
      },
      "source": [
        "import pandas as pd"
      ],
      "execution_count": 13,
      "outputs": []
    },
    {
      "cell_type": "code",
      "metadata": {
        "colab": {
          "base_uri": "https://localhost:8080/",
          "height": 309
        },
        "id": "DGOVhoSAJg3C",
        "outputId": "0412c6e3-0c81-4b30-8e1b-d25acfea82cc"
      },
      "source": [
        "data_cuaca = pd.read_csv('JaipurFinalCleanData.csv')\n",
        "data_cuaca.head()"
      ],
      "execution_count": 14,
      "outputs": [
        {
          "output_type": "execute_result",
          "data": {
            "text/html": [
              "<div>\n",
              "<style scoped>\n",
              "    .dataframe tbody tr th:only-of-type {\n",
              "        vertical-align: middle;\n",
              "    }\n",
              "\n",
              "    .dataframe tbody tr th {\n",
              "        vertical-align: top;\n",
              "    }\n",
              "\n",
              "    .dataframe thead th {\n",
              "        text-align: right;\n",
              "    }\n",
              "</style>\n",
              "<table border=\"1\" class=\"dataframe\">\n",
              "  <thead>\n",
              "    <tr style=\"text-align: right;\">\n",
              "      <th></th>\n",
              "      <th>date</th>\n",
              "      <th>mean_temperature</th>\n",
              "      <th>max_temperature</th>\n",
              "      <th>min_temperature</th>\n",
              "      <th>Mean_dew_pt</th>\n",
              "      <th>mean_pressure</th>\n",
              "      <th>max_humidity</th>\n",
              "      <th>min_humidity</th>\n",
              "      <th>max_dew_pt_1</th>\n",
              "      <th>max_dew_pt_2</th>\n",
              "      <th>min_dew_pt_1</th>\n",
              "      <th>min_dew_pt_2</th>\n",
              "      <th>max_pressure_1</th>\n",
              "      <th>max_pressure_2</th>\n",
              "      <th>min_pressure_1</th>\n",
              "      <th>min_pressure_2</th>\n",
              "      <th>rainfall</th>\n",
              "    </tr>\n",
              "  </thead>\n",
              "  <tbody>\n",
              "    <tr>\n",
              "      <th>0</th>\n",
              "      <td>2016-05-04</td>\n",
              "      <td>34</td>\n",
              "      <td>41</td>\n",
              "      <td>27</td>\n",
              "      <td>6</td>\n",
              "      <td>1006.00</td>\n",
              "      <td>27</td>\n",
              "      <td>5</td>\n",
              "      <td>12</td>\n",
              "      <td>10</td>\n",
              "      <td>-2</td>\n",
              "      <td>-2</td>\n",
              "      <td>1009</td>\n",
              "      <td>1008</td>\n",
              "      <td>1000</td>\n",
              "      <td>1001</td>\n",
              "      <td>0.0</td>\n",
              "    </tr>\n",
              "    <tr>\n",
              "      <th>1</th>\n",
              "      <td>2016-05-05</td>\n",
              "      <td>31</td>\n",
              "      <td>38</td>\n",
              "      <td>24</td>\n",
              "      <td>7</td>\n",
              "      <td>1005.65</td>\n",
              "      <td>29</td>\n",
              "      <td>6</td>\n",
              "      <td>13</td>\n",
              "      <td>12</td>\n",
              "      <td>0</td>\n",
              "      <td>-2</td>\n",
              "      <td>1008</td>\n",
              "      <td>1009</td>\n",
              "      <td>1001</td>\n",
              "      <td>1000</td>\n",
              "      <td>0.0</td>\n",
              "    </tr>\n",
              "    <tr>\n",
              "      <th>2</th>\n",
              "      <td>2016-05-06</td>\n",
              "      <td>28</td>\n",
              "      <td>34</td>\n",
              "      <td>21</td>\n",
              "      <td>11</td>\n",
              "      <td>1007.94</td>\n",
              "      <td>61</td>\n",
              "      <td>13</td>\n",
              "      <td>16</td>\n",
              "      <td>13</td>\n",
              "      <td>6</td>\n",
              "      <td>0</td>\n",
              "      <td>1011</td>\n",
              "      <td>1008</td>\n",
              "      <td>1003</td>\n",
              "      <td>1001</td>\n",
              "      <td>5.0</td>\n",
              "    </tr>\n",
              "    <tr>\n",
              "      <th>3</th>\n",
              "      <td>2016-05-07</td>\n",
              "      <td>30</td>\n",
              "      <td>38</td>\n",
              "      <td>23</td>\n",
              "      <td>13</td>\n",
              "      <td>1008.39</td>\n",
              "      <td>69</td>\n",
              "      <td>18</td>\n",
              "      <td>17</td>\n",
              "      <td>16</td>\n",
              "      <td>9</td>\n",
              "      <td>6</td>\n",
              "      <td>1011</td>\n",
              "      <td>1011</td>\n",
              "      <td>1004</td>\n",
              "      <td>1003</td>\n",
              "      <td>0.0</td>\n",
              "    </tr>\n",
              "    <tr>\n",
              "      <th>4</th>\n",
              "      <td>2016-05-08</td>\n",
              "      <td>34</td>\n",
              "      <td>41</td>\n",
              "      <td>26</td>\n",
              "      <td>10</td>\n",
              "      <td>1007.62</td>\n",
              "      <td>50</td>\n",
              "      <td>8</td>\n",
              "      <td>14</td>\n",
              "      <td>17</td>\n",
              "      <td>6</td>\n",
              "      <td>9</td>\n",
              "      <td>1010</td>\n",
              "      <td>1011</td>\n",
              "      <td>1002</td>\n",
              "      <td>1004</td>\n",
              "      <td>0.0</td>\n",
              "    </tr>\n",
              "  </tbody>\n",
              "</table>\n",
              "</div>"
            ],
            "text/plain": [
              "         date  mean_temperature  ...  min_pressure_2  rainfall\n",
              "0  2016-05-04                34  ...            1001       0.0\n",
              "1  2016-05-05                31  ...            1000       0.0\n",
              "2  2016-05-06                28  ...            1001       5.0\n",
              "3  2016-05-07                30  ...            1003       0.0\n",
              "4  2016-05-08                34  ...            1004       0.0\n",
              "\n",
              "[5 rows x 17 columns]"
            ]
          },
          "metadata": {
            "tags": []
          },
          "execution_count": 14
        }
      ]
    },
    {
      "cell_type": "code",
      "metadata": {
        "colab": {
          "base_uri": "https://localhost:8080/"
        },
        "id": "XRLsMPB-Mc1g",
        "outputId": "790250ce-3352-4c14-aff6-826d5ea31967"
      },
      "source": [
        "data_cuaca['mean_temperature']"
      ],
      "execution_count": 15,
      "outputs": [
        {
          "output_type": "execute_result",
          "data": {
            "text/plain": [
              "0      34\n",
              "1      31\n",
              "2      28\n",
              "3      30\n",
              "4      34\n",
              "       ..\n",
              "671    24\n",
              "672    24\n",
              "673    26\n",
              "674    26\n",
              "675    26\n",
              "Name: mean_temperature, Length: 676, dtype: int64"
            ]
          },
          "metadata": {
            "tags": []
          },
          "execution_count": 15
        }
      ]
    },
    {
      "cell_type": "code",
      "metadata": {
        "colab": {
          "base_uri": "https://localhost:8080/",
          "height": 419
        },
        "id": "Cab2X9uSNGw1",
        "outputId": "01d091f5-6d7e-43c4-efcd-132a0f6971fa"
      },
      "source": [
        "data_cuaca[['date','mean_temperature','max_temperature','min_temperature']]"
      ],
      "execution_count": 16,
      "outputs": [
        {
          "output_type": "execute_result",
          "data": {
            "text/html": [
              "<div>\n",
              "<style scoped>\n",
              "    .dataframe tbody tr th:only-of-type {\n",
              "        vertical-align: middle;\n",
              "    }\n",
              "\n",
              "    .dataframe tbody tr th {\n",
              "        vertical-align: top;\n",
              "    }\n",
              "\n",
              "    .dataframe thead th {\n",
              "        text-align: right;\n",
              "    }\n",
              "</style>\n",
              "<table border=\"1\" class=\"dataframe\">\n",
              "  <thead>\n",
              "    <tr style=\"text-align: right;\">\n",
              "      <th></th>\n",
              "      <th>date</th>\n",
              "      <th>mean_temperature</th>\n",
              "      <th>max_temperature</th>\n",
              "      <th>min_temperature</th>\n",
              "    </tr>\n",
              "  </thead>\n",
              "  <tbody>\n",
              "    <tr>\n",
              "      <th>0</th>\n",
              "      <td>2016-05-04</td>\n",
              "      <td>34</td>\n",
              "      <td>41</td>\n",
              "      <td>27</td>\n",
              "    </tr>\n",
              "    <tr>\n",
              "      <th>1</th>\n",
              "      <td>2016-05-05</td>\n",
              "      <td>31</td>\n",
              "      <td>38</td>\n",
              "      <td>24</td>\n",
              "    </tr>\n",
              "    <tr>\n",
              "      <th>2</th>\n",
              "      <td>2016-05-06</td>\n",
              "      <td>28</td>\n",
              "      <td>34</td>\n",
              "      <td>21</td>\n",
              "    </tr>\n",
              "    <tr>\n",
              "      <th>3</th>\n",
              "      <td>2016-05-07</td>\n",
              "      <td>30</td>\n",
              "      <td>38</td>\n",
              "      <td>23</td>\n",
              "    </tr>\n",
              "    <tr>\n",
              "      <th>4</th>\n",
              "      <td>2016-05-08</td>\n",
              "      <td>34</td>\n",
              "      <td>41</td>\n",
              "      <td>26</td>\n",
              "    </tr>\n",
              "    <tr>\n",
              "      <th>...</th>\n",
              "      <td>...</td>\n",
              "      <td>...</td>\n",
              "      <td>...</td>\n",
              "      <td>...</td>\n",
              "    </tr>\n",
              "    <tr>\n",
              "      <th>671</th>\n",
              "      <td>2018-03-07</td>\n",
              "      <td>24</td>\n",
              "      <td>32</td>\n",
              "      <td>15</td>\n",
              "    </tr>\n",
              "    <tr>\n",
              "      <th>672</th>\n",
              "      <td>2018-03-08</td>\n",
              "      <td>24</td>\n",
              "      <td>32</td>\n",
              "      <td>15</td>\n",
              "    </tr>\n",
              "    <tr>\n",
              "      <th>673</th>\n",
              "      <td>2018-03-09</td>\n",
              "      <td>26</td>\n",
              "      <td>33</td>\n",
              "      <td>19</td>\n",
              "    </tr>\n",
              "    <tr>\n",
              "      <th>674</th>\n",
              "      <td>2018-03-10</td>\n",
              "      <td>26</td>\n",
              "      <td>34</td>\n",
              "      <td>19</td>\n",
              "    </tr>\n",
              "    <tr>\n",
              "      <th>675</th>\n",
              "      <td>2018-03-11</td>\n",
              "      <td>26</td>\n",
              "      <td>34</td>\n",
              "      <td>18</td>\n",
              "    </tr>\n",
              "  </tbody>\n",
              "</table>\n",
              "<p>676 rows × 4 columns</p>\n",
              "</div>"
            ],
            "text/plain": [
              "           date  mean_temperature  max_temperature  min_temperature\n",
              "0    2016-05-04                34               41               27\n",
              "1    2016-05-05                31               38               24\n",
              "2    2016-05-06                28               34               21\n",
              "3    2016-05-07                30               38               23\n",
              "4    2016-05-08                34               41               26\n",
              "..          ...               ...              ...              ...\n",
              "671  2018-03-07                24               32               15\n",
              "672  2018-03-08                24               32               15\n",
              "673  2018-03-09                26               33               19\n",
              "674  2018-03-10                26               34               19\n",
              "675  2018-03-11                26               34               18\n",
              "\n",
              "[676 rows x 4 columns]"
            ]
          },
          "metadata": {
            "tags": []
          },
          "execution_count": 16
        }
      ]
    },
    {
      "cell_type": "code",
      "metadata": {
        "colab": {
          "base_uri": "https://localhost:8080/"
        },
        "id": "9AJX60jbPTsb",
        "outputId": "7c289f8e-002b-4c6e-c51a-da776a286e18"
      },
      "source": [
        "data_cuaca.info()"
      ],
      "execution_count": 17,
      "outputs": [
        {
          "output_type": "stream",
          "text": [
            "<class 'pandas.core.frame.DataFrame'>\n",
            "RangeIndex: 676 entries, 0 to 675\n",
            "Data columns (total 17 columns):\n",
            " #   Column            Non-Null Count  Dtype  \n",
            "---  ------            --------------  -----  \n",
            " 0   date              676 non-null    object \n",
            " 1   mean_temperature  676 non-null    int64  \n",
            " 2   max_temperature   676 non-null    int64  \n",
            " 3   min_temperature   676 non-null    int64  \n",
            " 4   Mean_dew_pt       676 non-null    int64  \n",
            " 5   mean_pressure     676 non-null    float64\n",
            " 6   max_humidity      676 non-null    int64  \n",
            " 7   min_humidity      676 non-null    int64  \n",
            " 8   max_dew_pt_1      676 non-null    int64  \n",
            " 9   max_dew_pt_2      676 non-null    int64  \n",
            " 10  min_dew_pt_1      676 non-null    int64  \n",
            " 11  min_dew_pt_2      676 non-null    int64  \n",
            " 12  max_pressure_1    676 non-null    int64  \n",
            " 13  max_pressure_2    676 non-null    int64  \n",
            " 14  min_pressure_1    676 non-null    int64  \n",
            " 15  min_pressure_2    676 non-null    int64  \n",
            " 16  rainfall          676 non-null    float64\n",
            "dtypes: float64(2), int64(14), object(1)\n",
            "memory usage: 89.9+ KB\n"
          ],
          "name": "stdout"
        }
      ]
    },
    {
      "cell_type": "code",
      "metadata": {
        "colab": {
          "base_uri": "https://localhost:8080/",
          "height": 309
        },
        "id": "i2d-JPG-Pz2t",
        "outputId": "9e87541e-a2e7-4e00-bf49-405f45e84e23"
      },
      "source": [
        "data_cuaca.head()"
      ],
      "execution_count": 18,
      "outputs": [
        {
          "output_type": "execute_result",
          "data": {
            "text/html": [
              "<div>\n",
              "<style scoped>\n",
              "    .dataframe tbody tr th:only-of-type {\n",
              "        vertical-align: middle;\n",
              "    }\n",
              "\n",
              "    .dataframe tbody tr th {\n",
              "        vertical-align: top;\n",
              "    }\n",
              "\n",
              "    .dataframe thead th {\n",
              "        text-align: right;\n",
              "    }\n",
              "</style>\n",
              "<table border=\"1\" class=\"dataframe\">\n",
              "  <thead>\n",
              "    <tr style=\"text-align: right;\">\n",
              "      <th></th>\n",
              "      <th>date</th>\n",
              "      <th>mean_temperature</th>\n",
              "      <th>max_temperature</th>\n",
              "      <th>min_temperature</th>\n",
              "      <th>Mean_dew_pt</th>\n",
              "      <th>mean_pressure</th>\n",
              "      <th>max_humidity</th>\n",
              "      <th>min_humidity</th>\n",
              "      <th>max_dew_pt_1</th>\n",
              "      <th>max_dew_pt_2</th>\n",
              "      <th>min_dew_pt_1</th>\n",
              "      <th>min_dew_pt_2</th>\n",
              "      <th>max_pressure_1</th>\n",
              "      <th>max_pressure_2</th>\n",
              "      <th>min_pressure_1</th>\n",
              "      <th>min_pressure_2</th>\n",
              "      <th>rainfall</th>\n",
              "    </tr>\n",
              "  </thead>\n",
              "  <tbody>\n",
              "    <tr>\n",
              "      <th>0</th>\n",
              "      <td>2016-05-04</td>\n",
              "      <td>34</td>\n",
              "      <td>41</td>\n",
              "      <td>27</td>\n",
              "      <td>6</td>\n",
              "      <td>1006.00</td>\n",
              "      <td>27</td>\n",
              "      <td>5</td>\n",
              "      <td>12</td>\n",
              "      <td>10</td>\n",
              "      <td>-2</td>\n",
              "      <td>-2</td>\n",
              "      <td>1009</td>\n",
              "      <td>1008</td>\n",
              "      <td>1000</td>\n",
              "      <td>1001</td>\n",
              "      <td>0.0</td>\n",
              "    </tr>\n",
              "    <tr>\n",
              "      <th>1</th>\n",
              "      <td>2016-05-05</td>\n",
              "      <td>31</td>\n",
              "      <td>38</td>\n",
              "      <td>24</td>\n",
              "      <td>7</td>\n",
              "      <td>1005.65</td>\n",
              "      <td>29</td>\n",
              "      <td>6</td>\n",
              "      <td>13</td>\n",
              "      <td>12</td>\n",
              "      <td>0</td>\n",
              "      <td>-2</td>\n",
              "      <td>1008</td>\n",
              "      <td>1009</td>\n",
              "      <td>1001</td>\n",
              "      <td>1000</td>\n",
              "      <td>0.0</td>\n",
              "    </tr>\n",
              "    <tr>\n",
              "      <th>2</th>\n",
              "      <td>2016-05-06</td>\n",
              "      <td>28</td>\n",
              "      <td>34</td>\n",
              "      <td>21</td>\n",
              "      <td>11</td>\n",
              "      <td>1007.94</td>\n",
              "      <td>61</td>\n",
              "      <td>13</td>\n",
              "      <td>16</td>\n",
              "      <td>13</td>\n",
              "      <td>6</td>\n",
              "      <td>0</td>\n",
              "      <td>1011</td>\n",
              "      <td>1008</td>\n",
              "      <td>1003</td>\n",
              "      <td>1001</td>\n",
              "      <td>5.0</td>\n",
              "    </tr>\n",
              "    <tr>\n",
              "      <th>3</th>\n",
              "      <td>2016-05-07</td>\n",
              "      <td>30</td>\n",
              "      <td>38</td>\n",
              "      <td>23</td>\n",
              "      <td>13</td>\n",
              "      <td>1008.39</td>\n",
              "      <td>69</td>\n",
              "      <td>18</td>\n",
              "      <td>17</td>\n",
              "      <td>16</td>\n",
              "      <td>9</td>\n",
              "      <td>6</td>\n",
              "      <td>1011</td>\n",
              "      <td>1011</td>\n",
              "      <td>1004</td>\n",
              "      <td>1003</td>\n",
              "      <td>0.0</td>\n",
              "    </tr>\n",
              "    <tr>\n",
              "      <th>4</th>\n",
              "      <td>2016-05-08</td>\n",
              "      <td>34</td>\n",
              "      <td>41</td>\n",
              "      <td>26</td>\n",
              "      <td>10</td>\n",
              "      <td>1007.62</td>\n",
              "      <td>50</td>\n",
              "      <td>8</td>\n",
              "      <td>14</td>\n",
              "      <td>17</td>\n",
              "      <td>6</td>\n",
              "      <td>9</td>\n",
              "      <td>1010</td>\n",
              "      <td>1011</td>\n",
              "      <td>1002</td>\n",
              "      <td>1004</td>\n",
              "      <td>0.0</td>\n",
              "    </tr>\n",
              "  </tbody>\n",
              "</table>\n",
              "</div>"
            ],
            "text/plain": [
              "         date  mean_temperature  ...  min_pressure_2  rainfall\n",
              "0  2016-05-04                34  ...            1001       0.0\n",
              "1  2016-05-05                31  ...            1000       0.0\n",
              "2  2016-05-06                28  ...            1001       5.0\n",
              "3  2016-05-07                30  ...            1003       0.0\n",
              "4  2016-05-08                34  ...            1004       0.0\n",
              "\n",
              "[5 rows x 17 columns]"
            ]
          },
          "metadata": {
            "tags": []
          },
          "execution_count": 18
        }
      ]
    },
    {
      "cell_type": "code",
      "metadata": {
        "colab": {
          "base_uri": "https://localhost:8080/"
        },
        "id": "NxCLI44_QAY4",
        "outputId": "ca9b3660-7363-48ee-88a3-ad9b613f83e1"
      },
      "source": [
        "suhu_terdingin = np.min(data_cuaca['min_temperature'])\n",
        "suhu_terdingin"
      ],
      "execution_count": 19,
      "outputs": [
        {
          "output_type": "execute_result",
          "data": {
            "text/plain": [
              "3"
            ]
          },
          "metadata": {
            "tags": []
          },
          "execution_count": 19
        }
      ]
    },
    {
      "cell_type": "code",
      "metadata": {
        "colab": {
          "base_uri": "https://localhost:8080/",
          "height": 117
        },
        "id": "-gIoZopmQgeT",
        "outputId": "245204fe-edb1-4021-ad30-5a3348841409"
      },
      "source": [
        "data_cuaca[data_cuaca['min_temperature'] == suhu_terdingin]"
      ],
      "execution_count": 20,
      "outputs": [
        {
          "output_type": "execute_result",
          "data": {
            "text/html": [
              "<div>\n",
              "<style scoped>\n",
              "    .dataframe tbody tr th:only-of-type {\n",
              "        vertical-align: middle;\n",
              "    }\n",
              "\n",
              "    .dataframe tbody tr th {\n",
              "        vertical-align: top;\n",
              "    }\n",
              "\n",
              "    .dataframe thead th {\n",
              "        text-align: right;\n",
              "    }\n",
              "</style>\n",
              "<table border=\"1\" class=\"dataframe\">\n",
              "  <thead>\n",
              "    <tr style=\"text-align: right;\">\n",
              "      <th></th>\n",
              "      <th>date</th>\n",
              "      <th>mean_temperature</th>\n",
              "      <th>max_temperature</th>\n",
              "      <th>min_temperature</th>\n",
              "      <th>Mean_dew_pt</th>\n",
              "      <th>mean_pressure</th>\n",
              "      <th>max_humidity</th>\n",
              "      <th>min_humidity</th>\n",
              "      <th>max_dew_pt_1</th>\n",
              "      <th>max_dew_pt_2</th>\n",
              "      <th>min_dew_pt_1</th>\n",
              "      <th>min_dew_pt_2</th>\n",
              "      <th>max_pressure_1</th>\n",
              "      <th>max_pressure_2</th>\n",
              "      <th>min_pressure_1</th>\n",
              "      <th>min_pressure_2</th>\n",
              "      <th>rainfall</th>\n",
              "    </tr>\n",
              "  </thead>\n",
              "  <tbody>\n",
              "    <tr>\n",
              "      <th>252</th>\n",
              "      <td>2017-01-11</td>\n",
              "      <td>10</td>\n",
              "      <td>18</td>\n",
              "      <td>3</td>\n",
              "      <td>3</td>\n",
              "      <td>1017.0</td>\n",
              "      <td>94</td>\n",
              "      <td>17</td>\n",
              "      <td>9</td>\n",
              "      <td>10</td>\n",
              "      <td>-5</td>\n",
              "      <td>-1</td>\n",
              "      <td>1019</td>\n",
              "      <td>1018</td>\n",
              "      <td>1015</td>\n",
              "      <td>1014</td>\n",
              "      <td>0.0</td>\n",
              "    </tr>\n",
              "  </tbody>\n",
              "</table>\n",
              "</div>"
            ],
            "text/plain": [
              "           date  mean_temperature  ...  min_pressure_2  rainfall\n",
              "252  2017-01-11                10  ...            1014       0.0\n",
              "\n",
              "[1 rows x 17 columns]"
            ]
          },
          "metadata": {
            "tags": []
          },
          "execution_count": 20
        }
      ]
    },
    {
      "cell_type": "code",
      "metadata": {
        "colab": {
          "base_uri": "https://localhost:8080/"
        },
        "id": "QRdLYuwxQ7CS",
        "outputId": "0099b011-4b63-4b6f-d45b-341a1187e686"
      },
      "source": [
        "suhu_tertinggi = np.max(data_cuaca['max_temperature'])\n",
        "suhu_tertinggi"
      ],
      "execution_count": 21,
      "outputs": [
        {
          "output_type": "execute_result",
          "data": {
            "text/plain": [
              "46"
            ]
          },
          "metadata": {
            "tags": []
          },
          "execution_count": 21
        }
      ]
    },
    {
      "cell_type": "code",
      "metadata": {
        "colab": {
          "base_uri": "https://localhost:8080/",
          "height": 165
        },
        "id": "W4_hxnnqRHs-",
        "outputId": "c0a06001-79c8-439b-bb69-eb7fe6ff0bfa"
      },
      "source": [
        "data_cuaca[data_cuaca['max_temperature'] == suhu_tertinggi]"
      ],
      "execution_count": 22,
      "outputs": [
        {
          "output_type": "execute_result",
          "data": {
            "text/html": [
              "<div>\n",
              "<style scoped>\n",
              "    .dataframe tbody tr th:only-of-type {\n",
              "        vertical-align: middle;\n",
              "    }\n",
              "\n",
              "    .dataframe tbody tr th {\n",
              "        vertical-align: top;\n",
              "    }\n",
              "\n",
              "    .dataframe thead th {\n",
              "        text-align: right;\n",
              "    }\n",
              "</style>\n",
              "<table border=\"1\" class=\"dataframe\">\n",
              "  <thead>\n",
              "    <tr style=\"text-align: right;\">\n",
              "      <th></th>\n",
              "      <th>date</th>\n",
              "      <th>mean_temperature</th>\n",
              "      <th>max_temperature</th>\n",
              "      <th>min_temperature</th>\n",
              "      <th>Mean_dew_pt</th>\n",
              "      <th>mean_pressure</th>\n",
              "      <th>max_humidity</th>\n",
              "      <th>min_humidity</th>\n",
              "      <th>max_dew_pt_1</th>\n",
              "      <th>max_dew_pt_2</th>\n",
              "      <th>min_dew_pt_1</th>\n",
              "      <th>min_dew_pt_2</th>\n",
              "      <th>max_pressure_1</th>\n",
              "      <th>max_pressure_2</th>\n",
              "      <th>min_pressure_1</th>\n",
              "      <th>min_pressure_2</th>\n",
              "      <th>rainfall</th>\n",
              "    </tr>\n",
              "  </thead>\n",
              "  <tbody>\n",
              "    <tr>\n",
              "      <th>15</th>\n",
              "      <td>2016-05-19</td>\n",
              "      <td>38</td>\n",
              "      <td>46</td>\n",
              "      <td>29</td>\n",
              "      <td>11</td>\n",
              "      <td>999.88</td>\n",
              "      <td>45</td>\n",
              "      <td>5</td>\n",
              "      <td>17</td>\n",
              "      <td>16</td>\n",
              "      <td>6</td>\n",
              "      <td>10</td>\n",
              "      <td>1002</td>\n",
              "      <td>1010</td>\n",
              "      <td>994</td>\n",
              "      <td>995</td>\n",
              "      <td>0.0</td>\n",
              "    </tr>\n",
              "    <tr>\n",
              "      <th>16</th>\n",
              "      <td>2016-05-20</td>\n",
              "      <td>38</td>\n",
              "      <td>46</td>\n",
              "      <td>30</td>\n",
              "      <td>6</td>\n",
              "      <td>998.96</td>\n",
              "      <td>33</td>\n",
              "      <td>4</td>\n",
              "      <td>13</td>\n",
              "      <td>17</td>\n",
              "      <td>-2</td>\n",
              "      <td>6</td>\n",
              "      <td>1002</td>\n",
              "      <td>1002</td>\n",
              "      <td>994</td>\n",
              "      <td>994</td>\n",
              "      <td>0.0</td>\n",
              "    </tr>\n",
              "  </tbody>\n",
              "</table>\n",
              "</div>"
            ],
            "text/plain": [
              "          date  mean_temperature  ...  min_pressure_2  rainfall\n",
              "15  2016-05-19                38  ...             995       0.0\n",
              "16  2016-05-20                38  ...             994       0.0\n",
              "\n",
              "[2 rows x 17 columns]"
            ]
          },
          "metadata": {
            "tags": []
          },
          "execution_count": 22
        }
      ]
    },
    {
      "cell_type": "code",
      "metadata": {
        "colab": {
          "base_uri": "https://localhost:8080/"
        },
        "id": "Oa1LaYwTUKl2",
        "outputId": "45dd075a-a949-4528-c19c-271245b21a34"
      },
      "source": [
        "np.mean(data_cuaca['mean_temperature'])"
      ],
      "execution_count": 23,
      "outputs": [
        {
          "output_type": "execute_result",
          "data": {
            "text/plain": [
              "26.05325443786982"
            ]
          },
          "metadata": {
            "tags": []
          },
          "execution_count": 23
        }
      ]
    },
    {
      "cell_type": "code",
      "metadata": {
        "colab": {
          "base_uri": "https://localhost:8080/",
          "height": 609
        },
        "id": "c2czKyvdR9Ff",
        "outputId": "cd97b7be-a5cd-4265-8582-337ab04a616e"
      },
      "source": [
        "kondisi = np.logical_and(data_cuaca['mean_temperature'] >= 10, data_cuaca['mean_temperature'] <= 20)\n",
        "data_cuaca[kondisi]"
      ],
      "execution_count": 24,
      "outputs": [
        {
          "output_type": "execute_result",
          "data": {
            "text/html": [
              "<div>\n",
              "<style scoped>\n",
              "    .dataframe tbody tr th:only-of-type {\n",
              "        vertical-align: middle;\n",
              "    }\n",
              "\n",
              "    .dataframe tbody tr th {\n",
              "        vertical-align: top;\n",
              "    }\n",
              "\n",
              "    .dataframe thead th {\n",
              "        text-align: right;\n",
              "    }\n",
              "</style>\n",
              "<table border=\"1\" class=\"dataframe\">\n",
              "  <thead>\n",
              "    <tr style=\"text-align: right;\">\n",
              "      <th></th>\n",
              "      <th>date</th>\n",
              "      <th>mean_temperature</th>\n",
              "      <th>max_temperature</th>\n",
              "      <th>min_temperature</th>\n",
              "      <th>Mean_dew_pt</th>\n",
              "      <th>mean_pressure</th>\n",
              "      <th>max_humidity</th>\n",
              "      <th>min_humidity</th>\n",
              "      <th>max_dew_pt_1</th>\n",
              "      <th>max_dew_pt_2</th>\n",
              "      <th>min_dew_pt_1</th>\n",
              "      <th>min_dew_pt_2</th>\n",
              "      <th>max_pressure_1</th>\n",
              "      <th>max_pressure_2</th>\n",
              "      <th>min_pressure_1</th>\n",
              "      <th>min_pressure_2</th>\n",
              "      <th>rainfall</th>\n",
              "    </tr>\n",
              "  </thead>\n",
              "  <tbody>\n",
              "    <tr>\n",
              "      <th>195</th>\n",
              "      <td>2016-11-15</td>\n",
              "      <td>20</td>\n",
              "      <td>28</td>\n",
              "      <td>12</td>\n",
              "      <td>6</td>\n",
              "      <td>1016.80</td>\n",
              "      <td>55</td>\n",
              "      <td>10</td>\n",
              "      <td>10</td>\n",
              "      <td>11</td>\n",
              "      <td>1</td>\n",
              "      <td>3</td>\n",
              "      <td>1019</td>\n",
              "      <td>1020</td>\n",
              "      <td>1014</td>\n",
              "      <td>1014</td>\n",
              "      <td>0.0</td>\n",
              "    </tr>\n",
              "    <tr>\n",
              "      <th>196</th>\n",
              "      <td>2016-11-16</td>\n",
              "      <td>20</td>\n",
              "      <td>29</td>\n",
              "      <td>12</td>\n",
              "      <td>6</td>\n",
              "      <td>1016.76</td>\n",
              "      <td>63</td>\n",
              "      <td>12</td>\n",
              "      <td>11</td>\n",
              "      <td>10</td>\n",
              "      <td>1</td>\n",
              "      <td>1</td>\n",
              "      <td>1019</td>\n",
              "      <td>1019</td>\n",
              "      <td>1014</td>\n",
              "      <td>1014</td>\n",
              "      <td>0.0</td>\n",
              "    </tr>\n",
              "    <tr>\n",
              "      <th>197</th>\n",
              "      <td>2016-11-17</td>\n",
              "      <td>20</td>\n",
              "      <td>29</td>\n",
              "      <td>12</td>\n",
              "      <td>6</td>\n",
              "      <td>1018.41</td>\n",
              "      <td>59</td>\n",
              "      <td>14</td>\n",
              "      <td>10</td>\n",
              "      <td>11</td>\n",
              "      <td>4</td>\n",
              "      <td>1</td>\n",
              "      <td>1021</td>\n",
              "      <td>1019</td>\n",
              "      <td>1016</td>\n",
              "      <td>1014</td>\n",
              "      <td>0.0</td>\n",
              "    </tr>\n",
              "    <tr>\n",
              "      <th>198</th>\n",
              "      <td>2016-11-18</td>\n",
              "      <td>20</td>\n",
              "      <td>30</td>\n",
              "      <td>11</td>\n",
              "      <td>5</td>\n",
              "      <td>1018.46</td>\n",
              "      <td>63</td>\n",
              "      <td>12</td>\n",
              "      <td>11</td>\n",
              "      <td>10</td>\n",
              "      <td>2</td>\n",
              "      <td>4</td>\n",
              "      <td>1022</td>\n",
              "      <td>1021</td>\n",
              "      <td>1015</td>\n",
              "      <td>1016</td>\n",
              "      <td>0.0</td>\n",
              "    </tr>\n",
              "    <tr>\n",
              "      <th>199</th>\n",
              "      <td>2016-11-19</td>\n",
              "      <td>20</td>\n",
              "      <td>30</td>\n",
              "      <td>11</td>\n",
              "      <td>4</td>\n",
              "      <td>1016.47</td>\n",
              "      <td>72</td>\n",
              "      <td>8</td>\n",
              "      <td>11</td>\n",
              "      <td>11</td>\n",
              "      <td>-1</td>\n",
              "      <td>2</td>\n",
              "      <td>1020</td>\n",
              "      <td>1022</td>\n",
              "      <td>1013</td>\n",
              "      <td>1015</td>\n",
              "      <td>0.0</td>\n",
              "    </tr>\n",
              "    <tr>\n",
              "      <th>...</th>\n",
              "      <td>...</td>\n",
              "      <td>...</td>\n",
              "      <td>...</td>\n",
              "      <td>...</td>\n",
              "      <td>...</td>\n",
              "      <td>...</td>\n",
              "      <td>...</td>\n",
              "      <td>...</td>\n",
              "      <td>...</td>\n",
              "      <td>...</td>\n",
              "      <td>...</td>\n",
              "      <td>...</td>\n",
              "      <td>...</td>\n",
              "      <td>...</td>\n",
              "      <td>...</td>\n",
              "      <td>...</td>\n",
              "      <td>...</td>\n",
              "    </tr>\n",
              "    <tr>\n",
              "      <th>647</th>\n",
              "      <td>2018-02-11</td>\n",
              "      <td>19</td>\n",
              "      <td>23</td>\n",
              "      <td>15</td>\n",
              "      <td>1</td>\n",
              "      <td>1015.86</td>\n",
              "      <td>41</td>\n",
              "      <td>11</td>\n",
              "      <td>5</td>\n",
              "      <td>3</td>\n",
              "      <td>-2</td>\n",
              "      <td>-7</td>\n",
              "      <td>1019</td>\n",
              "      <td>1017</td>\n",
              "      <td>1013</td>\n",
              "      <td>1010</td>\n",
              "      <td>0.0</td>\n",
              "    </tr>\n",
              "    <tr>\n",
              "      <th>648</th>\n",
              "      <td>2018-02-12</td>\n",
              "      <td>18</td>\n",
              "      <td>25</td>\n",
              "      <td>12</td>\n",
              "      <td>5</td>\n",
              "      <td>1014.70</td>\n",
              "      <td>55</td>\n",
              "      <td>18</td>\n",
              "      <td>8</td>\n",
              "      <td>5</td>\n",
              "      <td>2</td>\n",
              "      <td>-2</td>\n",
              "      <td>1017</td>\n",
              "      <td>1019</td>\n",
              "      <td>1012</td>\n",
              "      <td>1013</td>\n",
              "      <td>0.0</td>\n",
              "    </tr>\n",
              "    <tr>\n",
              "      <th>649</th>\n",
              "      <td>2018-02-13</td>\n",
              "      <td>19</td>\n",
              "      <td>25</td>\n",
              "      <td>13</td>\n",
              "      <td>7</td>\n",
              "      <td>1016.98</td>\n",
              "      <td>94</td>\n",
              "      <td>12</td>\n",
              "      <td>15</td>\n",
              "      <td>8</td>\n",
              "      <td>0</td>\n",
              "      <td>2</td>\n",
              "      <td>1021</td>\n",
              "      <td>1017</td>\n",
              "      <td>1014</td>\n",
              "      <td>1012</td>\n",
              "      <td>0.0</td>\n",
              "    </tr>\n",
              "    <tr>\n",
              "      <th>650</th>\n",
              "      <td>2018-02-14</td>\n",
              "      <td>18</td>\n",
              "      <td>24</td>\n",
              "      <td>11</td>\n",
              "      <td>8</td>\n",
              "      <td>1022.53</td>\n",
              "      <td>100</td>\n",
              "      <td>12</td>\n",
              "      <td>14</td>\n",
              "      <td>15</td>\n",
              "      <td>-1</td>\n",
              "      <td>0</td>\n",
              "      <td>1025</td>\n",
              "      <td>1021</td>\n",
              "      <td>1020</td>\n",
              "      <td>1014</td>\n",
              "      <td>0.0</td>\n",
              "    </tr>\n",
              "    <tr>\n",
              "      <th>651</th>\n",
              "      <td>2018-02-15</td>\n",
              "      <td>18</td>\n",
              "      <td>26</td>\n",
              "      <td>11</td>\n",
              "      <td>3</td>\n",
              "      <td>1023.43</td>\n",
              "      <td>54</td>\n",
              "      <td>16</td>\n",
              "      <td>6</td>\n",
              "      <td>14</td>\n",
              "      <td>-4</td>\n",
              "      <td>-1</td>\n",
              "      <td>1026</td>\n",
              "      <td>1025</td>\n",
              "      <td>1020</td>\n",
              "      <td>1020</td>\n",
              "      <td>0.0</td>\n",
              "    </tr>\n",
              "  </tbody>\n",
              "</table>\n",
              "<p>177 rows × 17 columns</p>\n",
              "</div>"
            ],
            "text/plain": [
              "           date  mean_temperature  ...  min_pressure_2  rainfall\n",
              "195  2016-11-15                20  ...            1014       0.0\n",
              "196  2016-11-16                20  ...            1014       0.0\n",
              "197  2016-11-17                20  ...            1014       0.0\n",
              "198  2016-11-18                20  ...            1016       0.0\n",
              "199  2016-11-19                20  ...            1015       0.0\n",
              "..          ...               ...  ...             ...       ...\n",
              "647  2018-02-11                19  ...            1010       0.0\n",
              "648  2018-02-12                18  ...            1013       0.0\n",
              "649  2018-02-13                19  ...            1012       0.0\n",
              "650  2018-02-14                18  ...            1014       0.0\n",
              "651  2018-02-15                18  ...            1020       0.0\n",
              "\n",
              "[177 rows x 17 columns]"
            ]
          },
          "metadata": {
            "tags": []
          },
          "execution_count": 24
        }
      ]
    },
    {
      "cell_type": "markdown",
      "metadata": {
        "id": "iV5uf4HqNumc"
      },
      "source": [
        "#Matplotlib\n",
        "1. Visualisasi data"
      ]
    },
    {
      "cell_type": "code",
      "metadata": {
        "id": "4kH2t778PgdC"
      },
      "source": [
        "import matplotlib.pyplot as plt\n",
        "import seaborn as sns"
      ],
      "execution_count": 25,
      "outputs": []
    },
    {
      "cell_type": "code",
      "metadata": {
        "id": "riM7618tXNwz"
      },
      "source": [
        "data_cuaca['date'] = pd.to_datetime(data_cuaca['date'])"
      ],
      "execution_count": 26,
      "outputs": []
    },
    {
      "cell_type": "code",
      "metadata": {
        "colab": {
          "base_uri": "https://localhost:8080/",
          "height": 295
        },
        "id": "2hstdoSRU73U",
        "outputId": "ca4396b0-0474-4e80-fa9f-06242d92504c"
      },
      "source": [
        "sns.lineplot(data=data_cuaca, x='date', y='mean_temperature')\n",
        "sns.lineplot(data=data_cuaca, x='date', y='max_temperature')\n",
        "plt.title(\"Grafik Perbandingan Suhu\")\n",
        "plt.legend(['suhu rata-rata', 'suhum maksimal'])\n",
        "plt.show()"
      ],
      "execution_count": 27,
      "outputs": [
        {
          "output_type": "display_data",
          "data": {
            "image/png": "[encoded data removed]",
            "text/plain": [
              "<Figure size 432x288 with 1 Axes>"
            ]
          },
          "metadata": {
            "tags": [],
            "needs_background": "light"
          }
        }
      ]
    },
    {
      "cell_type": "code",
      "metadata": {
        "colab": {
          "base_uri": "https://localhost:8080/",
          "height": 297
        },
        "id": "n2BbQrUUXrQ0",
        "outputId": "d7c8a59b-e0bb-4f15-8427-d56f354a7fde"
      },
      "source": [
        "sns.scatterplot(data=data_cuaca, x='max_temperature', y='max_humidity')"
      ],
      "execution_count": 28,
      "outputs": [
        {
          "output_type": "execute_result",
          "data": {
            "text/plain": [
              "<matplotlib.axes._subplots.AxesSubplot at 0x7f8f9403cf50>"
            ]
          },
          "metadata": {
            "tags": []
          },
          "execution_count": 28
        },
        {
          "output_type": "display_data",
          "data": {
            "image/png": "[encoded data removed]",
            "text/plain": [
              "<Figure size 432x288 with 1 Axes>"
            ]
          },
          "metadata": {
            "tags": [],
            "needs_background": "light"
          }
        }
      ]
    },
    {
      "cell_type": "code",
      "metadata": {
        "colab": {
          "base_uri": "https://localhost:8080/",
          "height": 297
        },
        "id": "9EkC-KmfYYlj",
        "outputId": "9eb5c53b-183a-480f-ce79-cc7f188f7f06"
      },
      "source": [
        "sns.histplot(data = data_cuaca, x='mean_temperature')"
      ],
      "execution_count": 29,
      "outputs": [
        {
          "output_type": "execute_result",
          "data": {
            "text/plain": [
              "<matplotlib.axes._subplots.AxesSubplot at 0x7f8f93a1b3d0>"
            ]
          },
          "metadata": {
            "tags": []
          },
          "execution_count": 29
        },
        {
          "output_type": "display_data",
          "data": {
            "image/png": "[encoded data removed]",
            "text/plain": [
              "<Figure size 432x288 with 1 Axes>"
            ]
          },
          "metadata": {
            "tags": [],
            "needs_background": "light"
          }
        }
      ]
    },
    {
      "cell_type": "code",
      "metadata": {
        "colab": {
          "base_uri": "https://localhost:8080/",
          "height": 269
        },
        "id": "sAPWEOlva-cQ",
        "outputId": "e9a77e5f-604e-41b5-e471-a3bdde316586"
      },
      "source": [
        "sns.boxplot(data = data_cuaca, y='mean_temperature')"
      ],
      "execution_count": 30,
      "outputs": [
        {
          "output_type": "execute_result",
          "data": {
            "text/plain": [
              "<matplotlib.axes._subplots.AxesSubplot at 0x7f8f939852d0>"
            ]
          },
          "metadata": {
            "tags": []
          },
          "execution_count": 30
        },
        {
          "output_type": "display_data",
          "data": {
            "image/png": "[encoded data removed]",
            "text/plain": [
              "<Figure size 432x288 with 1 Axes>"
            ]
          },
          "metadata": {
            "tags": [],
            "needs_background": "light"
          }
        }
      ]
    },
    {
      "cell_type": "markdown",
      "metadata": {
        "id": "-uJkRdPIbp5j"
      },
      "source": [
        "#Scikit-learn\n",
        "1. mencoba membuat model machine learning"
      ]
    },
    {
      "cell_type": "markdown",
      "metadata": {
        "id": "eE03XsKZfohk"
      },
      "source": [
        "# Memuat data "
      ]
    },
    {
      "cell_type": "code",
      "metadata": {
        "colab": {
          "base_uri": "https://localhost:8080/",
          "height": 473
        },
        "id": "qK4FF_JWcJrT",
        "outputId": "19bc0de3-d82e-44e6-9f53-247119f5d4cc"
      },
      "source": [
        "data_pegawai = pd.read_csv('[Dataset]_Module11_Train_(Employee).csv')\n",
        "data_pegawai"
      ],
      "execution_count": 31,
      "outputs": [
        {
          "output_type": "execute_result",
          "data": {
            "text/html": [
              "<div>\n",
              "<style scoped>\n",
              "    .dataframe tbody tr th:only-of-type {\n",
              "        vertical-align: middle;\n",
              "    }\n",
              "\n",
              "    .dataframe tbody tr th {\n",
              "        vertical-align: top;\n",
              "    }\n",
              "\n",
              "    .dataframe thead th {\n",
              "        text-align: right;\n",
              "    }\n",
              "</style>\n",
              "<table border=\"1\" class=\"dataframe\">\n",
              "  <thead>\n",
              "    <tr style=\"text-align: right;\">\n",
              "      <th></th>\n",
              "      <th>Employee_ID</th>\n",
              "      <th>Gender</th>\n",
              "      <th>Age</th>\n",
              "      <th>Education_Level</th>\n",
              "      <th>Relationship_Status</th>\n",
              "      <th>Hometown</th>\n",
              "      <th>Unit</th>\n",
              "      <th>Decision_skill_possess</th>\n",
              "      <th>Time_of_service</th>\n",
              "      <th>Time_since_promotion</th>\n",
              "      <th>growth_rate</th>\n",
              "      <th>Travel_Rate</th>\n",
              "      <th>Post_Level</th>\n",
              "      <th>Pay_Scale</th>\n",
              "      <th>Compensation_and_Benefits</th>\n",
              "      <th>Work_Life_balance</th>\n",
              "      <th>VAR1</th>\n",
              "      <th>VAR2</th>\n",
              "      <th>VAR3</th>\n",
              "      <th>VAR4</th>\n",
              "      <th>VAR5</th>\n",
              "      <th>VAR6</th>\n",
              "      <th>VAR7</th>\n",
              "      <th>Attrition_rate</th>\n",
              "    </tr>\n",
              "  </thead>\n",
              "  <tbody>\n",
              "    <tr>\n",
              "      <th>0</th>\n",
              "      <td>EID_23371</td>\n",
              "      <td>F</td>\n",
              "      <td>42.0</td>\n",
              "      <td>4</td>\n",
              "      <td>Married</td>\n",
              "      <td>Franklin</td>\n",
              "      <td>IT</td>\n",
              "      <td>Conceptual</td>\n",
              "      <td>4.0</td>\n",
              "      <td>4</td>\n",
              "      <td>33</td>\n",
              "      <td>1</td>\n",
              "      <td>1</td>\n",
              "      <td>7.0</td>\n",
              "      <td>type2</td>\n",
              "      <td>3.0</td>\n",
              "      <td>4</td>\n",
              "      <td>0.7516</td>\n",
              "      <td>1.8688</td>\n",
              "      <td>2.0</td>\n",
              "      <td>4</td>\n",
              "      <td>5</td>\n",
              "      <td>3</td>\n",
              "      <td>0.1841</td>\n",
              "    </tr>\n",
              "    <tr>\n",
              "      <th>1</th>\n",
              "      <td>EID_18000</td>\n",
              "      <td>M</td>\n",
              "      <td>24.0</td>\n",
              "      <td>3</td>\n",
              "      <td>Single</td>\n",
              "      <td>Springfield</td>\n",
              "      <td>Logistics</td>\n",
              "      <td>Analytical</td>\n",
              "      <td>5.0</td>\n",
              "      <td>4</td>\n",
              "      <td>36</td>\n",
              "      <td>0</td>\n",
              "      <td>3</td>\n",
              "      <td>6.0</td>\n",
              "      <td>type2</td>\n",
              "      <td>4.0</td>\n",
              "      <td>3</td>\n",
              "      <td>-0.9612</td>\n",
              "      <td>-0.4537</td>\n",
              "      <td>2.0</td>\n",
              "      <td>3</td>\n",
              "      <td>5</td>\n",
              "      <td>3</td>\n",
              "      <td>0.0670</td>\n",
              "    </tr>\n",
              "    <tr>\n",
              "      <th>2</th>\n",
              "      <td>EID_3891</td>\n",
              "      <td>F</td>\n",
              "      <td>58.0</td>\n",
              "      <td>3</td>\n",
              "      <td>Married</td>\n",
              "      <td>Clinton</td>\n",
              "      <td>Quality</td>\n",
              "      <td>Conceptual</td>\n",
              "      <td>27.0</td>\n",
              "      <td>3</td>\n",
              "      <td>51</td>\n",
              "      <td>0</td>\n",
              "      <td>2</td>\n",
              "      <td>8.0</td>\n",
              "      <td>type2</td>\n",
              "      <td>1.0</td>\n",
              "      <td>4</td>\n",
              "      <td>-0.9612</td>\n",
              "      <td>-0.4537</td>\n",
              "      <td>3.0</td>\n",
              "      <td>3</td>\n",
              "      <td>8</td>\n",
              "      <td>3</td>\n",
              "      <td>0.0851</td>\n",
              "    </tr>\n",
              "    <tr>\n",
              "      <th>3</th>\n",
              "      <td>EID_17492</td>\n",
              "      <td>F</td>\n",
              "      <td>26.0</td>\n",
              "      <td>3</td>\n",
              "      <td>Single</td>\n",
              "      <td>Lebanon</td>\n",
              "      <td>Human Resource Management</td>\n",
              "      <td>Behavioral</td>\n",
              "      <td>4.0</td>\n",
              "      <td>3</td>\n",
              "      <td>56</td>\n",
              "      <td>1</td>\n",
              "      <td>3</td>\n",
              "      <td>8.0</td>\n",
              "      <td>type2</td>\n",
              "      <td>1.0</td>\n",
              "      <td>3</td>\n",
              "      <td>-1.8176</td>\n",
              "      <td>-0.4537</td>\n",
              "      <td>NaN</td>\n",
              "      <td>3</td>\n",
              "      <td>7</td>\n",
              "      <td>3</td>\n",
              "      <td>0.0668</td>\n",
              "    </tr>\n",
              "    <tr>\n",
              "      <th>4</th>\n",
              "      <td>EID_22534</td>\n",
              "      <td>F</td>\n",
              "      <td>31.0</td>\n",
              "      <td>1</td>\n",
              "      <td>Married</td>\n",
              "      <td>Springfield</td>\n",
              "      <td>Logistics</td>\n",
              "      <td>Conceptual</td>\n",
              "      <td>5.0</td>\n",
              "      <td>4</td>\n",
              "      <td>62</td>\n",
              "      <td>1</td>\n",
              "      <td>3</td>\n",
              "      <td>2.0</td>\n",
              "      <td>type3</td>\n",
              "      <td>3.0</td>\n",
              "      <td>1</td>\n",
              "      <td>0.7516</td>\n",
              "      <td>-0.4537</td>\n",
              "      <td>2.0</td>\n",
              "      <td>2</td>\n",
              "      <td>8</td>\n",
              "      <td>2</td>\n",
              "      <td>0.1827</td>\n",
              "    </tr>\n",
              "    <tr>\n",
              "      <th>...</th>\n",
              "      <td>...</td>\n",
              "      <td>...</td>\n",
              "      <td>...</td>\n",
              "      <td>...</td>\n",
              "      <td>...</td>\n",
              "      <td>...</td>\n",
              "      <td>...</td>\n",
              "      <td>...</td>\n",
              "      <td>...</td>\n",
              "      <td>...</td>\n",
              "      <td>...</td>\n",
              "      <td>...</td>\n",
              "      <td>...</td>\n",
              "      <td>...</td>\n",
              "      <td>...</td>\n",
              "      <td>...</td>\n",
              "      <td>...</td>\n",
              "      <td>...</td>\n",
              "      <td>...</td>\n",
              "      <td>...</td>\n",
              "      <td>...</td>\n",
              "      <td>...</td>\n",
              "      <td>...</td>\n",
              "      <td>...</td>\n",
              "    </tr>\n",
              "    <tr>\n",
              "      <th>6995</th>\n",
              "      <td>EID_16328</td>\n",
              "      <td>F</td>\n",
              "      <td>23.0</td>\n",
              "      <td>5</td>\n",
              "      <td>Married</td>\n",
              "      <td>Franklin</td>\n",
              "      <td>Operarions</td>\n",
              "      <td>Behavioral</td>\n",
              "      <td>4.0</td>\n",
              "      <td>1</td>\n",
              "      <td>20</td>\n",
              "      <td>1</td>\n",
              "      <td>2</td>\n",
              "      <td>6.0</td>\n",
              "      <td>type3</td>\n",
              "      <td>3.0</td>\n",
              "      <td>1</td>\n",
              "      <td>0.7516</td>\n",
              "      <td>-0.4537</td>\n",
              "      <td>2.0</td>\n",
              "      <td>3</td>\n",
              "      <td>7</td>\n",
              "      <td>3</td>\n",
              "      <td>0.7839</td>\n",
              "    </tr>\n",
              "    <tr>\n",
              "      <th>6996</th>\n",
              "      <td>EID_8387</td>\n",
              "      <td>F</td>\n",
              "      <td>44.0</td>\n",
              "      <td>1</td>\n",
              "      <td>Married</td>\n",
              "      <td>Lebanon</td>\n",
              "      <td>R&amp;D</td>\n",
              "      <td>Analytical</td>\n",
              "      <td>16.0</td>\n",
              "      <td>2</td>\n",
              "      <td>59</td>\n",
              "      <td>0</td>\n",
              "      <td>2</td>\n",
              "      <td>4.0</td>\n",
              "      <td>type3</td>\n",
              "      <td>3.0</td>\n",
              "      <td>2</td>\n",
              "      <td>-0.1048</td>\n",
              "      <td>-2.7762</td>\n",
              "      <td>2.0</td>\n",
              "      <td>4</td>\n",
              "      <td>8</td>\n",
              "      <td>4</td>\n",
              "      <td>0.1055</td>\n",
              "    </tr>\n",
              "    <tr>\n",
              "      <th>6997</th>\n",
              "      <td>EID_8077</td>\n",
              "      <td>F</td>\n",
              "      <td>49.0</td>\n",
              "      <td>3</td>\n",
              "      <td>Single</td>\n",
              "      <td>Springfield</td>\n",
              "      <td>IT</td>\n",
              "      <td>Directive</td>\n",
              "      <td>10.0</td>\n",
              "      <td>1</td>\n",
              "      <td>59</td>\n",
              "      <td>1</td>\n",
              "      <td>2</td>\n",
              "      <td>3.0</td>\n",
              "      <td>type2</td>\n",
              "      <td>4.0</td>\n",
              "      <td>2</td>\n",
              "      <td>-0.1048</td>\n",
              "      <td>-0.4537</td>\n",
              "      <td>2.0</td>\n",
              "      <td>4</td>\n",
              "      <td>8</td>\n",
              "      <td>3</td>\n",
              "      <td>0.7847</td>\n",
              "    </tr>\n",
              "    <tr>\n",
              "      <th>6998</th>\n",
              "      <td>EID_19597</td>\n",
              "      <td>F</td>\n",
              "      <td>47.0</td>\n",
              "      <td>3</td>\n",
              "      <td>Married</td>\n",
              "      <td>Washington</td>\n",
              "      <td>Sales</td>\n",
              "      <td>Behavioral</td>\n",
              "      <td>24.0</td>\n",
              "      <td>1</td>\n",
              "      <td>21</td>\n",
              "      <td>1</td>\n",
              "      <td>5</td>\n",
              "      <td>8.0</td>\n",
              "      <td>type0</td>\n",
              "      <td>2.0</td>\n",
              "      <td>4</td>\n",
              "      <td>0.7516</td>\n",
              "      <td>1.8688</td>\n",
              "      <td>2.0</td>\n",
              "      <td>3</td>\n",
              "      <td>6</td>\n",
              "      <td>3</td>\n",
              "      <td>0.4162</td>\n",
              "    </tr>\n",
              "    <tr>\n",
              "      <th>6999</th>\n",
              "      <td>EID_1640</td>\n",
              "      <td>F</td>\n",
              "      <td>58.0</td>\n",
              "      <td>3</td>\n",
              "      <td>Married</td>\n",
              "      <td>Franklin</td>\n",
              "      <td>IT</td>\n",
              "      <td>Directive</td>\n",
              "      <td>22.0</td>\n",
              "      <td>2</td>\n",
              "      <td>74</td>\n",
              "      <td>0</td>\n",
              "      <td>4</td>\n",
              "      <td>5.0</td>\n",
              "      <td>type2</td>\n",
              "      <td>3.0</td>\n",
              "      <td>3</td>\n",
              "      <td>-0.1048</td>\n",
              "      <td>-1.6150</td>\n",
              "      <td>3.0</td>\n",
              "      <td>4</td>\n",
              "      <td>5</td>\n",
              "      <td>3</td>\n",
              "      <td>0.0910</td>\n",
              "    </tr>\n",
              "  </tbody>\n",
              "</table>\n",
              "<p>7000 rows × 24 columns</p>\n",
              "</div>"
            ],
            "text/plain": [
              "     Employee_ID Gender   Age  ...  VAR6 VAR7 Attrition_rate\n",
              "0      EID_23371      F  42.0  ...     5    3         0.1841\n",
              "1      EID_18000      M  24.0  ...     5    3         0.0670\n",
              "2       EID_3891      F  58.0  ...     8    3         0.0851\n",
              "3      EID_17492      F  26.0  ...     7    3         0.0668\n",
              "4      EID_22534      F  31.0  ...     8    2         0.1827\n",
              "...          ...    ...   ...  ...   ...  ...            ...\n",
              "6995   EID_16328      F  23.0  ...     7    3         0.7839\n",
              "6996    EID_8387      F  44.0  ...     8    4         0.1055\n",
              "6997    EID_8077      F  49.0  ...     8    3         0.7847\n",
              "6998   EID_19597      F  47.0  ...     6    3         0.4162\n",
              "6999    EID_1640      F  58.0  ...     5    3         0.0910\n",
              "\n",
              "[7000 rows x 24 columns]"
            ]
          },
          "metadata": {
            "tags": []
          },
          "execution_count": 31
        }
      ]
    },
    {
      "cell_type": "markdown",
      "metadata": {
        "id": "jMawMw-vfrpF"
      },
      "source": [
        "#Eksplorasi data"
      ]
    },
    {
      "cell_type": "code",
      "metadata": {
        "colab": {
          "base_uri": "https://localhost:8080/"
        },
        "id": "fxlwEq67e5jx",
        "outputId": "9ca3b66c-7776-4b94-d22c-1fd10670f66b"
      },
      "source": [
        "data_pegawai.info()"
      ],
      "execution_count": 32,
      "outputs": [
        {
          "output_type": "stream",
          "text": [
            "<class 'pandas.core.frame.DataFrame'>\n",
            "RangeIndex: 7000 entries, 0 to 6999\n",
            "Data columns (total 24 columns):\n",
            " #   Column                     Non-Null Count  Dtype  \n",
            "---  ------                     --------------  -----  \n",
            " 0   Employee_ID                7000 non-null   object \n",
            " 1   Gender                     7000 non-null   object \n",
            " 2   Age                        6588 non-null   float64\n",
            " 3   Education_Level            7000 non-null   int64  \n",
            " 4   Relationship_Status        7000 non-null   object \n",
            " 5   Hometown                   7000 non-null   object \n",
            " 6   Unit                       7000 non-null   object \n",
            " 7   Decision_skill_possess     7000 non-null   object \n",
            " 8   Time_of_service            6856 non-null   float64\n",
            " 9   Time_since_promotion       7000 non-null   int64  \n",
            " 10  growth_rate                7000 non-null   int64  \n",
            " 11  Travel_Rate                7000 non-null   int64  \n",
            " 12  Post_Level                 7000 non-null   int64  \n",
            " 13  Pay_Scale                  6991 non-null   float64\n",
            " 14  Compensation_and_Benefits  7000 non-null   object \n",
            " 15  Work_Life_balance          6989 non-null   float64\n",
            " 16  VAR1                       7000 non-null   int64  \n",
            " 17  VAR2                       6423 non-null   float64\n",
            " 18  VAR3                       7000 non-null   float64\n",
            " 19  VAR4                       6344 non-null   float64\n",
            " 20  VAR5                       7000 non-null   int64  \n",
            " 21  VAR6                       7000 non-null   int64  \n",
            " 22  VAR7                       7000 non-null   int64  \n",
            " 23  Attrition_rate             7000 non-null   float64\n",
            "dtypes: float64(8), int64(9), object(7)\n",
            "memory usage: 1.3+ MB\n"
          ],
          "name": "stdout"
        }
      ]
    },
    {
      "cell_type": "code",
      "metadata": {
        "colab": {
          "base_uri": "https://localhost:8080/"
        },
        "id": "w-qoXnNHfI0D",
        "outputId": "3d0a9215-4b4a-4055-850e-ba5c51c06098"
      },
      "source": [
        "data_pegawai = data_pegawai.dropna()\n",
        "data_pegawai.info()"
      ],
      "execution_count": 33,
      "outputs": [
        {
          "output_type": "stream",
          "text": [
            "<class 'pandas.core.frame.DataFrame'>\n",
            "Int64Index: 5353 entries, 0 to 6999\n",
            "Data columns (total 24 columns):\n",
            " #   Column                     Non-Null Count  Dtype  \n",
            "---  ------                     --------------  -----  \n",
            " 0   Employee_ID                5353 non-null   object \n",
            " 1   Gender                     5353 non-null   object \n",
            " 2   Age                        5353 non-null   float64\n",
            " 3   Education_Level            5353 non-null   int64  \n",
            " 4   Relationship_Status        5353 non-null   object \n",
            " 5   Hometown                   5353 non-null   object \n",
            " 6   Unit                       5353 non-null   object \n",
            " 7   Decision_skill_possess     5353 non-null   object \n",
            " 8   Time_of_service            5353 non-null   float64\n",
            " 9   Time_since_promotion       5353 non-null   int64  \n",
            " 10  growth_rate                5353 non-null   int64  \n",
            " 11  Travel_Rate                5353 non-null   int64  \n",
            " 12  Post_Level                 5353 non-null   int64  \n",
            " 13  Pay_Scale                  5353 non-null   float64\n",
            " 14  Compensation_and_Benefits  5353 non-null   object \n",
            " 15  Work_Life_balance          5353 non-null   float64\n",
            " 16  VAR1                       5353 non-null   int64  \n",
            " 17  VAR2                       5353 non-null   float64\n",
            " 18  VAR3                       5353 non-null   float64\n",
            " 19  VAR4                       5353 non-null   float64\n",
            " 20  VAR5                       5353 non-null   int64  \n",
            " 21  VAR6                       5353 non-null   int64  \n",
            " 22  VAR7                       5353 non-null   int64  \n",
            " 23  Attrition_rate             5353 non-null   float64\n",
            "dtypes: float64(8), int64(9), object(7)\n",
            "memory usage: 1.0+ MB\n"
          ],
          "name": "stdout"
        }
      ]
    },
    {
      "cell_type": "markdown",
      "metadata": {
        "id": "9QKrLbh9fvY6"
      },
      "source": [
        "#Memilih Fitur"
      ]
    },
    {
      "cell_type": "code",
      "metadata": {
        "id": "cFX0xgV3hzzA"
      },
      "source": [
        "data_input = data_pegawai[['Age','Education_Level', 'Time_of_service', 'Time_since_promotion','growth_rate',\"Travel_Rate\",'Pay_Scale', 'Work_Life_balance']]"
      ],
      "execution_count": 34,
      "outputs": []
    },
    {
      "cell_type": "code",
      "metadata": {
        "id": "OW9t2jHeh2t-"
      },
      "source": [
        "data_output = data_pegawai['Attrition_rate']"
      ],
      "execution_count": 35,
      "outputs": []
    },
    {
      "cell_type": "markdown",
      "metadata": {
        "id": "bcRPM9wuhDVl"
      },
      "source": [
        "#Membagi data"
      ]
    },
    {
      "cell_type": "code",
      "metadata": {
        "id": "suyOTgMEhF8a"
      },
      "source": [
        "from sklearn.model_selection import train_test_split"
      ],
      "execution_count": 36,
      "outputs": []
    },
    {
      "cell_type": "code",
      "metadata": {
        "id": "p5oPRlxwmH_k"
      },
      "source": [
        "X_train, X_test, Y_train, Y_test = train_test_split(data_input,data_output,test_size = 0.3)"
      ],
      "execution_count": 39,
      "outputs": []
    },
    {
      "cell_type": "markdown",
      "metadata": {
        "id": "L9rsmotshpHt"
      },
      "source": [
        "#Melatih model"
      ]
    },
    {
      "cell_type": "code",
      "metadata": {
        "id": "i6W6FkMshr17"
      },
      "source": [
        "from sklearn.linear_model import LinearRegression\n",
        "from sklearn.linear_model import Lasso"
      ],
      "execution_count": 62,
      "outputs": []
    },
    {
      "cell_type": "code",
      "metadata": {
        "id": "S62zDqrRrdpE"
      },
      "source": [
        "model = Lasso(alpha=0.8)"
      ],
      "execution_count": 60,
      "outputs": []
    },
    {
      "cell_type": "code",
      "metadata": {
        "id": "z2sfCw0RiAyx"
      },
      "source": [
        "model = LinearRegression()"
      ],
      "execution_count": 63,
      "outputs": []
    },
    {
      "cell_type": "code",
      "metadata": {
        "colab": {
          "base_uri": "https://localhost:8080/"
        },
        "id": "CodwoOgkiGXU",
        "outputId": "b17e67b1-1fde-4aa7-e5ae-281cdcea6e85"
      },
      "source": [
        "model.fit(X_train, Y_train)"
      ],
      "execution_count": 64,
      "outputs": [
        {
          "output_type": "execute_result",
          "data": {
            "text/plain": [
              "LinearRegression(copy_X=True, fit_intercept=True, n_jobs=None, normalize=False)"
            ]
          },
          "metadata": {
            "tags": []
          },
          "execution_count": 64
        }
      ]
    },
    {
      "cell_type": "code",
      "metadata": {
        "id": "6seaCP1vnKNM"
      },
      "source": [
        "y_pred = model.predict(X_test)"
      ],
      "execution_count": 46,
      "outputs": []
    },
    {
      "cell_type": "code",
      "metadata": {
        "colab": {
          "base_uri": "https://localhost:8080/"
        },
        "id": "sHbLteXin4Jo",
        "outputId": "cc35bdab-db06-466a-ddaf-43a007a54ca4"
      },
      "source": [
        "y_pred "
      ],
      "execution_count": 48,
      "outputs": [
        {
          "output_type": "execute_result",
          "data": {
            "text/plain": [
              "array([0.19623739, 0.19125708, 0.18418066, ..., 0.1914207 , 0.19211802,\n",
              "       0.19415115])"
            ]
          },
          "metadata": {
            "tags": []
          },
          "execution_count": 48
        }
      ]
    },
    {
      "cell_type": "markdown",
      "metadata": {
        "id": "daqKZE1VrptQ"
      },
      "source": [
        "#Evaluasi Model "
      ]
    },
    {
      "cell_type": "code",
      "metadata": {
        "id": "lGQJibV9oUZr"
      },
      "source": [
        "from sklearn.metrics import mean_absolute_error, mean_squared_error"
      ],
      "execution_count": 54,
      "outputs": []
    },
    {
      "cell_type": "code",
      "metadata": {
        "colab": {
          "base_uri": "https://localhost:8080/"
        },
        "id": "4FGRrl2ApUKK",
        "outputId": "5970995a-2357-41d5-8529-bb4381f6eed0"
      },
      "source": [
        "print(\"Mean Absolute Error : \", mean_absolute_error(y_pred,Y_test))"
      ],
      "execution_count": 56,
      "outputs": [
        {
          "output_type": "stream",
          "text": [
            "Mean Absolute Error :  0.12464233114199313\n"
          ],
          "name": "stdout"
        }
      ]
    },
    {
      "cell_type": "code",
      "metadata": {
        "colab": {
          "base_uri": "https://localhost:8080/"
        },
        "id": "2qLWarVDqMX4",
        "outputId": "9217cf2c-76b3-438a-d2cd-fb7f15d3d092"
      },
      "source": [
        "print(\"Mean Squared Error : \", mean_squared_error(y_pred,Y_test))"
      ],
      "execution_count": 57,
      "outputs": [
        {
          "output_type": "stream",
          "text": [
            "Mean Squared Error :  0.03416970011289486\n"
          ],
          "name": "stdout"
        }
      ]
    }
  ]
}