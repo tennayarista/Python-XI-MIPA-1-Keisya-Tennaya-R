{
  "nbformat": 4,
  "nbformat_minor": 0,
  "metadata": {
    "colab": {
      "name": "Memulai Python.ipynb",
      "provenance": [],
      "authorship_tag": "ABX9TyNsZDlBjaH++GoCT0C+7EMx",
      "include_colab_link": true
    },
    "kernelspec": {
      "name": "python3",
      "display_name": "Python 3"
    },
    "language_info": {
      "name": "python"
    }
  },
  "cells": [
    {
      "cell_type": "markdown",
      "metadata": {
        "id": "view-in-github",
        "colab_type": "text"
      },
      "source": [
        "<a href=\"https://colab.research.google.com/github/tennayarista/Python-XI-MIPA-1-Keisya-Tennaya-R/blob/master/Memulai_Python.ipynb\" target=\"_parent\"><img src=\"https://colab.research.google.com/assets/colab-badge.svg\" alt=\"Open In Colab\"/></a>"
      ]
    },
    {
      "cell_type": "markdown",
      "metadata": {
        "id": "ZBnM_u9dA5en"
      },
      "source": [
        "# Memulai Python \n",
        "nama fungsi "
      ]
    },
    {
      "cell_type": "code",
      "metadata": {
        "colab": {
          "base_uri": "https://localhost:8080/"
        },
        "id": "cKG1Zb-gBV3P",
        "outputId": "843f2387-4a54-43bc-b3df-ad74f172f2c1"
      },
      "source": [
        "print (\"Halo keisya semangat PAT\")"
      ],
      "execution_count": 1,
      "outputs": [
        {
          "output_type": "stream",
          "text": [
            "Halo keisya semangat PAT\n"
          ],
          "name": "stdout"
        }
      ]
    },
    {
      "cell_type": "markdown",
      "metadata": {
        "id": "YCN64MiGBvvq"
      },
      "source": [
        "# Variabel\n",
        "suatu objek yang digunakan untuk menyimpan data  "
      ]
    },
    {
      "cell_type": "code",
      "metadata": {
        "colab": {
          "base_uri": "https://localhost:8080/"
        },
        "id": "zRlcMGZMCRyI",
        "outputId": "a2866bd3-2bd8-473d-a373-97b74be931d8"
      },
      "source": [
        "angka = \"Sembilan Puluh Enam\"\n",
        "print(angka)"
      ],
      "execution_count": 2,
      "outputs": [
        {
          "output_type": "stream",
          "text": [
            "Sembilan Puluh Enam\n"
          ],
          "name": "stdout"
        }
      ]
    },
    {
      "cell_type": "markdown",
      "metadata": {
        "id": "T-M36HGrCjEw"
      },
      "source": [
        "# Tipe angka "
      ]
    },
    {
      "cell_type": "code",
      "metadata": {
        "colab": {
          "base_uri": "https://localhost:8080/"
        },
        "id": "W_yRs3RDBCKz",
        "outputId": "62ee9f45-d90a-4ac6-ebff-977dcf4433ec"
      },
      "source": [
        "angka = 24\n",
        "print(angka)"
      ],
      "execution_count": 3,
      "outputs": [
        {
          "output_type": "stream",
          "text": [
            "24\n"
          ],
          "name": "stdout"
        }
      ]
    },
    {
      "cell_type": "code",
      "metadata": {
        "colab": {
          "base_uri": "https://localhost:8080/"
        },
        "id": "_WFSf3TnDNmF",
        "outputId": "583f837d-1a92-4d2d-83e9-a228f3061bcb"
      },
      "source": [
        "angka = 10 \n",
        "print(type(angka))"
      ],
      "execution_count": 4,
      "outputs": [
        {
          "output_type": "stream",
          "text": [
            "<class 'int'>\n"
          ],
          "name": "stdout"
        }
      ]
    },
    {
      "cell_type": "code",
      "metadata": {
        "colab": {
          "base_uri": "https://localhost:8080/"
        },
        "id": "xmAWwHevDYNE",
        "outputId": "23a988cb-c517-4bef-8dbd-7b5a53ca8a55"
      },
      "source": [
        "angka = 10.0 \n",
        "print(type(angka))"
      ],
      "execution_count": 5,
      "outputs": [
        {
          "output_type": "stream",
          "text": [
            "<class 'float'>\n"
          ],
          "name": "stdout"
        }
      ]
    },
    {
      "cell_type": "code",
      "metadata": {
        "colab": {
          "base_uri": "https://localhost:8080/"
        },
        "id": "ZXxvi6tFDf5O",
        "outputId": "32d2e11f-c876-49c2-abba-0d3e879df6dc"
      },
      "source": [
        "boole = False\n",
        "type(boole)"
      ],
      "execution_count": 6,
      "outputs": [
        {
          "output_type": "execute_result",
          "data": {
            "text/plain": [
              "bool"
            ]
          },
          "metadata": {
            "tags": []
          },
          "execution_count": 6
        }
      ]
    },
    {
      "cell_type": "code",
      "metadata": {
        "colab": {
          "base_uri": "https://localhost:8080/"
        },
        "id": "6AogY72yDpye",
        "outputId": "18b2c34c-72f3-4d27-8099-ff832c01f547"
      },
      "source": [
        "angka = \"10\"\n",
        "type(angka)"
      ],
      "execution_count": 7,
      "outputs": [
        {
          "output_type": "execute_result",
          "data": {
            "text/plain": [
              "str"
            ]
          },
          "metadata": {
            "tags": []
          },
          "execution_count": 7
        }
      ]
    },
    {
      "cell_type": "markdown",
      "metadata": {
        "id": "l4HBKCWMD4_B"
      },
      "source": [
        "# Operator \n",
        "simbol untuk melakukan sebuah operasi "
      ]
    },
    {
      "cell_type": "markdown",
      "metadata": {
        "id": "eLWv_BaNF0ne"
      },
      "source": [
        "# Aritmatika \n",
        "# + - * / %"
      ]
    },
    {
      "cell_type": "code",
      "metadata": {
        "colab": {
          "base_uri": "https://localhost:8080/"
        },
        "id": "fc2zzUwDEC1d",
        "outputId": "bed8bea2-a23e-4d40-cdf6-6e0c626f5a6b"
      },
      "source": [
        "a = 24 \n",
        "b = 10\n",
        "c = a + b \n",
        "print(c)\n",
        "\n",
        "c"
      ],
      "execution_count": 8,
      "outputs": [
        {
          "output_type": "stream",
          "text": [
            "34\n"
          ],
          "name": "stdout"
        },
        {
          "output_type": "execute_result",
          "data": {
            "text/plain": [
              "34"
            ]
          },
          "metadata": {
            "tags": []
          },
          "execution_count": 8
        }
      ]
    },
    {
      "cell_type": "code",
      "metadata": {
        "colab": {
          "base_uri": "https://localhost:8080/"
        },
        "id": "umpxehS7Efob",
        "outputId": "c769fa3f-441a-4c9b-8998-930408c2715d"
      },
      "source": [
        "a = 6\n",
        "b = 4 \n",
        "c = a*b \n",
        "\n",
        "c"
      ],
      "execution_count": 9,
      "outputs": [
        {
          "output_type": "execute_result",
          "data": {
            "text/plain": [
              "24"
            ]
          },
          "metadata": {
            "tags": []
          },
          "execution_count": 9
        }
      ]
    },
    {
      "cell_type": "code",
      "metadata": {
        "colab": {
          "base_uri": "https://localhost:8080/"
        },
        "id": "jEUYLVx8E7KI",
        "outputId": "4f9f719c-f482-456a-b8b4-58db5bd6fe66"
      },
      "source": [
        "a = 6 \n",
        "b = 7\n",
        "c = a/b\n",
        "\n",
        "c"
      ],
      "execution_count": 10,
      "outputs": [
        {
          "output_type": "execute_result",
          "data": {
            "text/plain": [
              "0.8571428571428571"
            ]
          },
          "metadata": {
            "tags": []
          },
          "execution_count": 10
        }
      ]
    },
    {
      "cell_type": "code",
      "metadata": {
        "colab": {
          "base_uri": "https://localhost:8080/"
        },
        "id": "GH0K8ydsFFO2",
        "outputId": "e3dbef01-b8ea-4ecd-ca5c-04b0eef770a7"
      },
      "source": [
        "a = 6 \n",
        "b = 7 \n",
        "c = a//b \n",
        "\n",
        "c"
      ],
      "execution_count": 11,
      "outputs": [
        {
          "output_type": "execute_result",
          "data": {
            "text/plain": [
              "0"
            ]
          },
          "metadata": {
            "tags": []
          },
          "execution_count": 11
        }
      ]
    },
    {
      "cell_type": "code",
      "metadata": {
        "colab": {
          "base_uri": "https://localhost:8080/"
        },
        "id": "wRZ5iF6YFMCy",
        "outputId": "a1a96f3f-1b54-4ecf-9632-ece9a8f609a5"
      },
      "source": [
        "a = 10 \n",
        "b = 3 \n",
        "c = a%b \n",
        "\n",
        "c"
      ],
      "execution_count": 12,
      "outputs": [
        {
          "output_type": "execute_result",
          "data": {
            "text/plain": [
              "1"
            ]
          },
          "metadata": {
            "tags": []
          },
          "execution_count": 12
        }
      ]
    },
    {
      "cell_type": "code",
      "metadata": {
        "colab": {
          "base_uri": "https://localhost:8080/"
        },
        "id": "Ex15KnL-FVW_",
        "outputId": "fc7f7a37-430a-4c17-8713-9bf3957e03c4"
      },
      "source": [
        "a = 2 \n",
        "b = 3 \n",
        "c = 2**3\n",
        "\n",
        "c"
      ],
      "execution_count": 13,
      "outputs": [
        {
          "output_type": "execute_result",
          "data": {
            "text/plain": [
              "8"
            ]
          },
          "metadata": {
            "tags": []
          },
          "execution_count": 13
        }
      ]
    },
    {
      "cell_type": "code",
      "metadata": {
        "id": "dovLtlTIFrFL"
      },
      "source": [
        "angka2 = 200"
      ],
      "execution_count": 14,
      "outputs": []
    },
    {
      "cell_type": "code",
      "metadata": {
        "colab": {
          "base_uri": "https://localhost:8080/"
        },
        "id": "tRFYE5s_Fgon",
        "outputId": "439b4e26-36c6-4217-fc8c-f1720c0ac819"
      },
      "source": [
        "print(angka2)"
      ],
      "execution_count": 15,
      "outputs": [
        {
          "output_type": "stream",
          "text": [
            "200\n"
          ],
          "name": "stdout"
        }
      ]
    },
    {
      "cell_type": "markdown",
      "metadata": {
        "id": "cH7wYBpYGCIe"
      },
      "source": [
        "# Operator pembandingan"
      ]
    },
    {
      "cell_type": "code",
      "metadata": {
        "colab": {
          "base_uri": "https://localhost:8080/"
        },
        "id": "nMrW379JGFis",
        "outputId": "ef7d5827-9365-4115-e2a0-70071280d189"
      },
      "source": [
        "a = 24\n",
        "b = 34 \n",
        "\n",
        "a > b "
      ],
      "execution_count": 16,
      "outputs": [
        {
          "output_type": "execute_result",
          "data": {
            "text/plain": [
              "False"
            ]
          },
          "metadata": {
            "tags": []
          },
          "execution_count": 16
        }
      ]
    },
    {
      "cell_type": "code",
      "metadata": {
        "colab": {
          "base_uri": "https://localhost:8080/"
        },
        "id": "WKcGReAzGeCF",
        "outputId": "7fc189f8-0762-455c-f249-1a1dd3a9f20e"
      },
      "source": [
        "a = 24 \n",
        "b = 34 \n",
        "\n",
        "a == b "
      ],
      "execution_count": 17,
      "outputs": [
        {
          "output_type": "execute_result",
          "data": {
            "text/plain": [
              "False"
            ]
          },
          "metadata": {
            "tags": []
          },
          "execution_count": 17
        }
      ]
    },
    {
      "cell_type": "code",
      "metadata": {
        "colab": {
          "base_uri": "https://localhost:8080/"
        },
        "id": "jwv0EfxkGlSD",
        "outputId": "197e4956-49be-4fc6-b305-71f68305af01"
      },
      "source": [
        "a = 24\n",
        "b = 34\n",
        "\n",
        "a != b "
      ],
      "execution_count": 18,
      "outputs": [
        {
          "output_type": "execute_result",
          "data": {
            "text/plain": [
              "True"
            ]
          },
          "metadata": {
            "tags": []
          },
          "execution_count": 18
        }
      ]
    },
    {
      "cell_type": "code",
      "metadata": {
        "colab": {
          "base_uri": "https://localhost:8080/"
        },
        "id": "bXdvyFspG90B",
        "outputId": "176c2c63-c83b-4fb5-aa34-bda7c7d59a10"
      },
      "source": [
        "a <= b "
      ],
      "execution_count": 19,
      "outputs": [
        {
          "output_type": "execute_result",
          "data": {
            "text/plain": [
              "True"
            ]
          },
          "metadata": {
            "tags": []
          },
          "execution_count": 19
        }
      ]
    },
    {
      "cell_type": "code",
      "metadata": {
        "colab": {
          "base_uri": "https://localhost:8080/"
        },
        "id": "SD1sO_NUHFjh",
        "outputId": "a2e054ba-91dd-4a0e-d054-370cb96db706"
      },
      "source": [
        "a >= b"
      ],
      "execution_count": 20,
      "outputs": [
        {
          "output_type": "execute_result",
          "data": {
            "text/plain": [
              "False"
            ]
          },
          "metadata": {
            "tags": []
          },
          "execution_count": 20
        }
      ]
    },
    {
      "cell_type": "markdown",
      "metadata": {
        "id": "XeRL8R-mHNsz"
      },
      "source": [
        "# Pernyataan Bersyarat (If Else) \n",
        "If, If-Else, if-elif-else"
      ]
    },
    {
      "cell_type": "code",
      "metadata": {
        "colab": {
          "base_uri": "https://localhost:8080/"
        },
        "id": "ur9WPsNOHa4r",
        "outputId": "364e09aa-ff17-40a5-e41a-2c3f924be966"
      },
      "source": [
        "suhu_tubuh = 34\n",
        "nilai_sensor_suhu = 24\n",
        "batas_suhu = 37\n",
        "\n",
        "if nilai_sensor_suhu < suhu_tubuh:\n",
        "  print(\"Tidak boleh masuk ke dalam ruangan\")\n",
        "  print(\"Anda sakit\")\n",
        "elif nilai_sensor_suhu > 37:\n",
        "  print(\"Segera masuk ke rumah sakit\")\n",
        "else:\n",
        "  print(\"Boleh masuk kedalam ruangan\")\n",
        "\n",
        "print(\"Selamat datang di puncak komedi\")\n"
      ],
      "execution_count": 21,
      "outputs": [
        {
          "output_type": "stream",
          "text": [
            "Tidak boleh masuk ke dalam ruangan\n",
            "Anda sakit\n",
            "Selamat datang di puncak komedi\n"
          ],
          "name": "stdout"
        }
      ]
    },
    {
      "cell_type": "code",
      "metadata": {
        "id": "31hODZUBLB9a"
      },
      "source": [
        "# cek apakah nilai sensor suhu diantara 25 dan 37\n",
        "\n",
        "if nilai_sensor_suhu >= 25 and nilai_sensor_suhu <= 37:\n",
        "  print(\"nilai sensor diantara 25 dan 37\")\n"
      ],
      "execution_count": 22,
      "outputs": []
    },
    {
      "cell_type": "code",
      "metadata": {
        "colab": {
          "base_uri": "https://localhost:8080/"
        },
        "id": "Wko1WHLCMLax",
        "outputId": "003a9edd-0a82-43a7-bf29-66e5c2189a71"
      },
      "source": [
        "# cek apakah nilai sensor suhu diluar rentang 25 dan 37 \n",
        "if nilai_sensor_suhu < 25 or nilai_sensor_suhu > 37:\n",
        "  print(\"nilai sensor diluar rentang 25 dan 37\")"
      ],
      "execution_count": 23,
      "outputs": [
        {
          "output_type": "stream",
          "text": [
            "nilai sensor diluar rentang 25 dan 37\n"
          ],
          "name": "stdout"
        }
      ]
    },
    {
      "cell_type": "code",
      "metadata": {
        "colab": {
          "base_uri": "https://localhost:8080/"
        },
        "id": "E46HCKOeMwGy",
        "outputId": "7d16495e-c444-4ad0-b0b1-a9c65a79a1fb"
      },
      "source": [
        "# cek apakah nilai a itu genap \n",
        "a = 24 \n",
        "\n",
        "if a % 2 != 0:\n",
        "  print(\"Ganjil\")\n",
        "else: \n",
        "  print(\"Genap\")"
      ],
      "execution_count": 24,
      "outputs": [
        {
          "output_type": "stream",
          "text": [
            "Genap\n"
          ],
          "name": "stdout"
        }
      ]
    },
    {
      "cell_type": "markdown",
      "metadata": {
        "id": "D-gVE-sGNVPY"
      },
      "source": [
        "# Perulangan (Looping) "
      ]
    },
    {
      "cell_type": "code",
      "metadata": {
        "colab": {
          "base_uri": "https://localhost:8080/"
        },
        "id": "1VdeRg7CNTGm",
        "outputId": "43d35f58-3354-4156-ee75-f4b89a72f791"
      },
      "source": [
        "for i in range (5):\n",
        "  print(\"I love myself like nobody else\",i)"
      ],
      "execution_count": 25,
      "outputs": [
        {
          "output_type": "stream",
          "text": [
            "I love myself like nobody else 0\n",
            "I love myself like nobody else 1\n",
            "I love myself like nobody else 2\n",
            "I love myself like nobody else 3\n",
            "I love myself like nobody else 4\n"
          ],
          "name": "stdout"
        }
      ]
    },
    {
      "cell_type": "code",
      "metadata": {
        "colab": {
          "base_uri": "https://localhost:8080/"
        },
        "id": "y0bGBVqyOgCT",
        "outputId": "d995e6ef-db8e-428d-a2e4-33a91c0d1da7"
      },
      "source": [
        "# Jumlahkan bilangan antara 0 - 10 \n",
        "\n",
        "jumlah = 0 \n",
        "for i in range (11):\n",
        "  if i % 2 != 0:\n",
        "    jumlah = jumlah + i \n",
        "print(jumlah)"
      ],
      "execution_count": 26,
      "outputs": [
        {
          "output_type": "stream",
          "text": [
            "25\n"
          ],
          "name": "stdout"
        }
      ]
    },
    {
      "cell_type": "code",
      "metadata": {
        "colab": {
          "base_uri": "https://localhost:8080/"
        },
        "id": "I9IoeYCUQ2c3",
        "outputId": "42b01b0e-2b70-4cf0-8540-df92abecf5cb"
      },
      "source": [
        "# perulangan berbasis kondisi \n",
        "nilai = 24 \n",
        "\n",
        "while nilai < 34:\n",
        "  print(\"cek\")\n",
        "  nilai = nilai + 2"
      ],
      "execution_count": 27,
      "outputs": [
        {
          "output_type": "stream",
          "text": [
            "cek\n",
            "cek\n",
            "cek\n",
            "cek\n",
            "cek\n"
          ],
          "name": "stdout"
        }
      ]
    },
    {
      "cell_type": "markdown",
      "metadata": {
        "id": "XqDApeQxR_vj"
      },
      "source": [
        "# Fungsi (Function) \n",
        "mendefinisikan urutan perintah"
      ]
    },
    {
      "cell_type": "code",
      "metadata": {
        "id": "HLudqeOGSH-_"
      },
      "source": [
        "def jumlah_n_ayam(n):\n",
        "  jumlah = 0 \n",
        "  for i in range (n):\n",
        "    jumlah = jumlah + i \n",
        "\n",
        "  return jumlah\n"
      ],
      "execution_count": 28,
      "outputs": []
    },
    {
      "cell_type": "code",
      "metadata": {
        "colab": {
          "base_uri": "https://localhost:8080/"
        },
        "id": "rKVK-MeBTIww",
        "outputId": "bdc8079e-bb67-43b2-a5ba-e259eea40329"
      },
      "source": [
        "jumlah_n_ayam(10)"
      ],
      "execution_count": 29,
      "outputs": [
        {
          "output_type": "execute_result",
          "data": {
            "text/plain": [
              "45"
            ]
          },
          "metadata": {
            "tags": []
          },
          "execution_count": 29
        }
      ]
    },
    {
      "cell_type": "markdown",
      "metadata": {
        "id": "ovCtRIIGWQ_1"
      },
      "source": [
        "# String "
      ]
    },
    {
      "cell_type": "code",
      "metadata": {
        "id": "oJ6uZg0GWTzS"
      },
      "source": [
        "string = 'apapun pakai petik masuknya string'"
      ],
      "execution_count": 30,
      "outputs": []
    },
    {
      "cell_type": "code",
      "metadata": {
        "colab": {
          "base_uri": "https://localhost:8080/",
          "height": 35
        },
        "id": "m1pvqNwnWdFD",
        "outputId": "088315f7-9c95-4a5f-fe36-f71a0d47ab2e"
      },
      "source": [
        "a = \"Keisya\"\n",
        "b = \"Tennaya\"\n",
        "c = \"Ristadewayani\"\n",
        "\n",
        "d = a + b + c \n",
        "\n",
        "d"
      ],
      "execution_count": 31,
      "outputs": [
        {
          "output_type": "execute_result",
          "data": {
            "application/vnd.google.colaboratory.intrinsic+json": {
              "type": "string"
            },
            "text/plain": [
              "'KeisyaTennayaRistadewayani'"
            ]
          },
          "metadata": {
            "tags": []
          },
          "execution_count": 31
        }
      ]
    },
    {
      "cell_type": "code",
      "metadata": {
        "colab": {
          "base_uri": "https://localhost:8080/"
        },
        "id": "nrkynANLW7ap",
        "outputId": "d8cea9bd-696e-410e-dbe0-5cdb25596aae"
      },
      "source": [
        "# cara menghitung jumlah karakter\n",
        "len (d)"
      ],
      "execution_count": 32,
      "outputs": [
        {
          "output_type": "execute_result",
          "data": {
            "text/plain": [
              "26"
            ]
          },
          "metadata": {
            "tags": []
          },
          "execution_count": 32
        }
      ]
    },
    {
      "cell_type": "markdown",
      "metadata": {
        "id": "6UPnR_7wVllZ"
      },
      "source": [
        "# Struktur Data \n"
      ]
    },
    {
      "cell_type": "markdown",
      "metadata": {
        "id": "1SvqjCYzWMrD"
      },
      "source": [
        "# List "
      ]
    },
    {
      "cell_type": "code",
      "metadata": {
        "colab": {
          "base_uri": "https://localhost:8080/"
        },
        "id": "bXyn31WkVwFV",
        "outputId": "7098741d-c4ce-445d-8a7e-ec6f37543518"
      },
      "source": [
        "daftar_nilai = [30,40,32,45]\n",
        "print(daftar_nilai)"
      ],
      "execution_count": 33,
      "outputs": [
        {
          "output_type": "stream",
          "text": [
            "[30, 40, 32, 45]\n"
          ],
          "name": "stdout"
        }
      ]
    },
    {
      "cell_type": "code",
      "metadata": {
        "colab": {
          "base_uri": "https://localhost:8080/"
        },
        "id": "QpbhSUylXjyH",
        "outputId": "de6734c6-4bf9-4c3d-ce79-7616d018a756"
      },
      "source": [
        "# mengakses element\n",
        "\n",
        "daftar_nilai[0]"
      ],
      "execution_count": 34,
      "outputs": [
        {
          "output_type": "execute_result",
          "data": {
            "text/plain": [
              "30"
            ]
          },
          "metadata": {
            "tags": []
          },
          "execution_count": 34
        }
      ]
    },
    {
      "cell_type": "code",
      "metadata": {
        "colab": {
          "base_uri": "https://localhost:8080/"
        },
        "id": "q8pdnmyDYE83",
        "outputId": "1719660d-6ba4-4831-b64f-83957ee10634"
      },
      "source": [
        "# menambahkan element \n",
        "\n",
        "daftar_nilai.append(21)\n",
        "daftar_nilai"
      ],
      "execution_count": 35,
      "outputs": [
        {
          "output_type": "execute_result",
          "data": {
            "text/plain": [
              "[30, 40, 32, 45, 21]"
            ]
          },
          "metadata": {
            "tags": []
          },
          "execution_count": 35
        }
      ]
    },
    {
      "cell_type": "code",
      "metadata": {
        "colab": {
          "base_uri": "https://localhost:8080/"
        },
        "id": "52jD4hWKYVqw",
        "outputId": "f53c1502-5cb8-42a4-9b55-9d3e514a255d"
      },
      "source": [
        "# mengubah element \n",
        "\n",
        "daftar_nilai[4] = 90\n",
        "daftar_nilai"
      ],
      "execution_count": 36,
      "outputs": [
        {
          "output_type": "execute_result",
          "data": {
            "text/plain": [
              "[30, 40, 32, 45, 90]"
            ]
          },
          "metadata": {
            "tags": []
          },
          "execution_count": 36
        }
      ]
    },
    {
      "cell_type": "code",
      "metadata": {
        "colab": {
          "base_uri": "https://localhost:8080/"
        },
        "id": "zF5foSFIYyA7",
        "outputId": "cbf1e002-a0d6-4194-dcc7-807f5d7f2255"
      },
      "source": [
        "# menghapus element\n",
        "\n",
        "daftar_nilai.remove(daftar_nilai[2])\n",
        "daftar_nilai"
      ],
      "execution_count": 37,
      "outputs": [
        {
          "output_type": "execute_result",
          "data": {
            "text/plain": [
              "[30, 40, 45, 90]"
            ]
          },
          "metadata": {
            "tags": []
          },
          "execution_count": 37
        }
      ]
    },
    {
      "cell_type": "code",
      "metadata": {
        "colab": {
          "base_uri": "https://localhost:8080/"
        },
        "id": "NxXWnW-hZLuq",
        "outputId": "7873cbd3-18cb-4ade-a6aa-64f2c11ac793"
      },
      "source": [
        "# insert menambahkan tapi engga diakhir \n",
        "daftar_nilai.insert(2,87)\n",
        "daftar_nilai"
      ],
      "execution_count": 38,
      "outputs": [
        {
          "output_type": "execute_result",
          "data": {
            "text/plain": [
              "[30, 40, 87, 45, 90]"
            ]
          },
          "metadata": {
            "tags": []
          },
          "execution_count": 38
        }
      ]
    },
    {
      "cell_type": "code",
      "metadata": {
        "colab": {
          "base_uri": "https://localhost:8080/"
        },
        "id": "C4SoI_sYZnQy",
        "outputId": "49c698b7-fde6-4120-8ad9-d44ab40071bc"
      },
      "source": [
        "for item in daftar_nilai:\n",
        "  print(item)"
      ],
      "execution_count": 39,
      "outputs": [
        {
          "output_type": "stream",
          "text": [
            "30\n",
            "40\n",
            "87\n",
            "45\n",
            "90\n"
          ],
          "name": "stdout"
        }
      ]
    },
    {
      "cell_type": "code",
      "metadata": {
        "colab": {
          "base_uri": "https://localhost:8080/"
        },
        "id": "31o_mz_eZ7cp",
        "outputId": "51269fa7-a166-4c1e-f28f-8fb1d0cc131b"
      },
      "source": [
        "# Cara menghitung nilai rata-rata di dalam list\n",
        "len(daftar_nilai)"
      ],
      "execution_count": 40,
      "outputs": [
        {
          "output_type": "execute_result",
          "data": {
            "text/plain": [
              "5"
            ]
          },
          "metadata": {
            "tags": []
          },
          "execution_count": 40
        }
      ]
    },
    {
      "cell_type": "code",
      "metadata": {
        "id": "-zc1PVwTakOh"
      },
      "source": [
        "\n",
        "def rata_rata(daftar_nilai):\n",
        "  total = 0 \n",
        "  for nilai in daftar_nilai: \n",
        "    total += nilai \n",
        "\n",
        "  rerata = total/len(daftar_nilai)\n",
        "  return rerata\n"
      ],
      "execution_count": 41,
      "outputs": []
    },
    {
      "cell_type": "code",
      "metadata": {
        "colab": {
          "base_uri": "https://localhost:8080/"
        },
        "id": "8vIEE9X8dN9C",
        "outputId": "6496f0f2-9bd6-44ac-dbab-ccc56b5a6865"
      },
      "source": [
        "rata_rata = sum(daftar_nilai)/len(daftar_nilai)\n",
        "print (rata_rata)"
      ],
      "execution_count": 42,
      "outputs": [
        {
          "output_type": "stream",
          "text": [
            "58.4\n"
          ],
          "name": "stdout"
        }
      ]
    },
    {
      "cell_type": "markdown",
      "metadata": {
        "id": "le2hPu7bdgYV"
      },
      "source": [
        "# Tuple\n",
        "# sama seperti list tetapi element nya tidak bisa diubah ubah"
      ]
    },
    {
      "cell_type": "code",
      "metadata": {
        "colab": {
          "base_uri": "https://localhost:8080/"
        },
        "id": "OSFjodPFdoU8",
        "outputId": "803da98f-ef0b-4e6b-ae02-872dc0b70bd3"
      },
      "source": [
        "tuple_a = (23,43,45)\n",
        "tuple_a"
      ],
      "execution_count": 43,
      "outputs": [
        {
          "output_type": "execute_result",
          "data": {
            "text/plain": [
              "(23, 43, 45)"
            ]
          },
          "metadata": {
            "tags": []
          },
          "execution_count": 43
        }
      ]
    },
    {
      "cell_type": "code",
      "metadata": {
        "colab": {
          "base_uri": "https://localhost:8080/"
        },
        "id": "sT_utBGcduWu",
        "outputId": "ea22dc72-1a4c-4e7b-fcff-96f65550cb0a"
      },
      "source": [
        "tuple_a [2]"
      ],
      "execution_count": 44,
      "outputs": [
        {
          "output_type": "execute_result",
          "data": {
            "text/plain": [
              "45"
            ]
          },
          "metadata": {
            "tags": []
          },
          "execution_count": 44
        }
      ]
    },
    {
      "cell_type": "code",
      "metadata": {
        "colab": {
          "base_uri": "https://localhost:8080/"
        },
        "id": "9sUgOwMzeGeZ",
        "outputId": "5e35c6b0-530a-49a9-c45f-720a549f7976"
      },
      "source": [
        "# mengecek panjang\n",
        "len(tuple_a)"
      ],
      "execution_count": 45,
      "outputs": [
        {
          "output_type": "execute_result",
          "data": {
            "text/plain": [
              "3"
            ]
          },
          "metadata": {
            "tags": []
          },
          "execution_count": 45
        }
      ]
    },
    {
      "cell_type": "markdown",
      "metadata": {
        "id": "6rxhGLTTeOzy"
      },
      "source": [
        "# Dictionary "
      ]
    },
    {
      "cell_type": "code",
      "metadata": {
        "colab": {
          "base_uri": "https://localhost:8080/"
        },
        "id": "X44y84JOeNP2",
        "outputId": "64a06b2f-419c-4780-dc8b-e24b70b49f36"
      },
      "source": [
        "siswa = [\"Keisya\", \"XI MIPA 1\", 20]\n",
        "siswa"
      ],
      "execution_count": 46,
      "outputs": [
        {
          "output_type": "execute_result",
          "data": {
            "text/plain": [
              "['Keisya', 'XI MIPA 1', 20]"
            ]
          },
          "metadata": {
            "tags": []
          },
          "execution_count": 46
        }
      ]
    },
    {
      "cell_type": "code",
      "metadata": {
        "colab": {
          "base_uri": "https://localhost:8080/"
        },
        "id": "8aSaMcQFerJJ",
        "outputId": "2073eb4f-e82c-4c44-c1a0-6729399a9b06"
      },
      "source": [
        "siswa = {\n",
        "    \"nama\":\"Keisya\",\n",
        "    \"kelas\" : \"XI MIPA 1\",\n",
        "    \"nilai_mathminat\" :20\n",
        "}\n",
        "\n",
        "siswa "
      ],
      "execution_count": 47,
      "outputs": [
        {
          "output_type": "execute_result",
          "data": {
            "text/plain": [
              "{'kelas': 'XI MIPA 1', 'nama': 'Keisya', 'nilai_mathminat': 20}"
            ]
          },
          "metadata": {
            "tags": []
          },
          "execution_count": 47
        }
      ]
    },
    {
      "cell_type": "code",
      "metadata": {
        "colab": {
          "base_uri": "https://localhost:8080/",
          "height": 35
        },
        "id": "tjoXrI2PfYon",
        "outputId": "c2d88ef4-3409-4eba-e8e0-4e4e0aa0ba56"
      },
      "source": [
        "# mengakses nilai \n",
        "siswa[\"nama\"]"
      ],
      "execution_count": 48,
      "outputs": [
        {
          "output_type": "execute_result",
          "data": {
            "application/vnd.google.colaboratory.intrinsic+json": {
              "type": "string"
            },
            "text/plain": [
              "'Keisya'"
            ]
          },
          "metadata": {
            "tags": []
          },
          "execution_count": 48
        }
      ]
    },
    {
      "cell_type": "code",
      "metadata": {
        "colab": {
          "base_uri": "https://localhost:8080/"
        },
        "id": "lfNIdIkwfehI",
        "outputId": "19aacafd-99ec-4616-9d1b-7953e01559db"
      },
      "source": [
        "# mengubah nilai \n",
        "\n",
        "siswa[\"nilai_mathminat\"] = 90\n",
        "siswa"
      ],
      "execution_count": 49,
      "outputs": [
        {
          "output_type": "execute_result",
          "data": {
            "text/plain": [
              "{'kelas': 'XI MIPA 1', 'nama': 'Keisya', 'nilai_mathminat': 90}"
            ]
          },
          "metadata": {
            "tags": []
          },
          "execution_count": 49
        }
      ]
    },
    {
      "cell_type": "code",
      "metadata": {
        "colab": {
          "base_uri": "https://localhost:8080/"
        },
        "id": "8ExF7KrifseD",
        "outputId": "1a5d0651-3bf5-4d6b-aef4-03fbb51d198f"
      },
      "source": [
        "# menambahkan element \n",
        "\n",
        "siswa[\"daftar_hobi\"] = [\"Membaca buku\", \"Mendengarkan musik\", \"Merawat tanaman\", \"Curhat sama kucing\"]\n",
        "siswa"
      ],
      "execution_count": 50,
      "outputs": [
        {
          "output_type": "execute_result",
          "data": {
            "text/plain": [
              "{'daftar_hobi': ['Membaca buku',\n",
              "  'Mendengarkan musik',\n",
              "  'Merawat tanaman',\n",
              "  'Curhat sama kucing'],\n",
              " 'kelas': 'XI MIPA 1',\n",
              " 'nama': 'Keisya',\n",
              " 'nilai_mathminat': 90}"
            ]
          },
          "metadata": {
            "tags": []
          },
          "execution_count": 50
        }
      ]
    },
    {
      "cell_type": "code",
      "metadata": {
        "colab": {
          "base_uri": "https://localhost:8080/",
          "height": 35
        },
        "id": "gW8_2vLogC8B",
        "outputId": "62da4c60-b3f0-4aeb-f414-70704667f782"
      },
      "source": [
        "siswa[\"daftar_hobi\"][3]"
      ],
      "execution_count": 52,
      "outputs": [
        {
          "output_type": "execute_result",
          "data": {
            "application/vnd.google.colaboratory.intrinsic+json": {
              "type": "string"
            },
            "text/plain": [
              "'Curhat sama kucing'"
            ]
          },
          "metadata": {
            "tags": []
          },
          "execution_count": 52
        }
      ]
    },
    {
      "cell_type": "code",
      "metadata": {
        "colab": {
          "base_uri": "https://localhost:8080/"
        },
        "id": "TypLmKhFgTuL",
        "outputId": "4212e8d3-fe38-40fd-c444-44e4586be1eb"
      },
      "source": [
        "# menghapus element\n",
        "del siswa[\"daftar_hobi\"]\n",
        "siswa"
      ],
      "execution_count": 53,
      "outputs": [
        {
          "output_type": "execute_result",
          "data": {
            "text/plain": [
              "{'kelas': 'XI MIPA 1', 'nama': 'Keisya', 'nilai_mathminat': 90}"
            ]
          },
          "metadata": {
            "tags": []
          },
          "execution_count": 53
        }
      ]
    },
    {
      "cell_type": "markdown",
      "metadata": {
        "id": "QrgCA-eegq8y"
      },
      "source": [
        "# package\n",
        "kumpulan fungsi yang bisa digunakan secara langsung "
      ]
    },
    {
      "cell_type": "code",
      "metadata": {
        "id": "L3LnUcZfgwde"
      },
      "source": [
        "import numpy as np"
      ],
      "execution_count": null,
      "outputs": []
    },
    {
      "cell_type": "code",
      "metadata": {
        "id": "XsPyYt7thsIg"
      },
      "source": [
        "arr = np.array([2,3,4,5])\n",
        "arr"
      ],
      "execution_count": null,
      "outputs": []
    },
    {
      "cell_type": "code",
      "metadata": {
        "id": "BlPv80qyiBH-"
      },
      "source": [
        "arr = np.array([2,3,4,5.5])\n",
        "arr"
      ],
      "execution_count": null,
      "outputs": []
    },
    {
      "cell_type": "code",
      "metadata": {
        "id": "5vGWJD3BiKU7"
      },
      "source": [
        "2*arr"
      ],
      "execution_count": null,
      "outputs": []
    },
    {
      "cell_type": "code",
      "metadata": {
        "id": "GMIuCosNieSx"
      },
      "source": [
        "np.mean(daftar_nilai)"
      ],
      "execution_count": null,
      "outputs": []
    },
    {
      "cell_type": "code",
      "metadata": {
        "id": "6czpYkjLinBS"
      },
      "source": [
        "np.median(daftar_nilai)"
      ],
      "execution_count": null,
      "outputs": []
    }
  ]
}