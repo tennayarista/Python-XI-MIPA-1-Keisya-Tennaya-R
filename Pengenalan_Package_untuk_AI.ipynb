{
  "nbformat": 4,
  "nbformat_minor": 0,
  "metadata": {
    "colab": {
      "name": "Pengenalan Package untuk AI.ipynb",
      "provenance": [],
      "mount_file_id": "1M3plUvFAgC_XG7e6cy1CvGYi8t_jSfda",
      "authorship_tag": "ABX9TyPnwd/L/AdkCNMmVxWnqmKX",
      "include_colab_link": true
    },
    "kernelspec": {
      "name": "python3",
      "display_name": "Python 3"
    },
    "language_info": {
      "name": "python"
    }
  },
  "cells": [
    {
      "cell_type": "markdown",
      "metadata": {
        "id": "view-in-github",
        "colab_type": "text"
      },
      "source": [
        "<a href=\"https://colab.research.google.com/github/tennayarista/Python-XI-MIPA-1-Keisya-Tennaya-R/blob/master/Pengenalan_Package_untuk_AI.ipynb\" target=\"_parent\"><img src=\"https://colab.research.google.com/assets/colab-badge.svg\" alt=\"Open In Colab\"/></a>"
      ]
    },
    {
      "cell_type": "markdown",
      "metadata": {
        "id": "5DbFeBx_Cw9d"
      },
      "source": [
        "# Membahas 4 package \n",
        "\n",
        "1. Numpy \n",
        "2. Pandas \n",
        "3. Matplotlib, Seaborn\n",
        "4. Scikit-learn\n",
        "\n"
      ]
    },
    {
      "cell_type": "markdown",
      "metadata": {
        "id": "T_IBWqH5HMA3"
      },
      "source": [
        "#Numpy"
      ]
    },
    {
      "cell_type": "code",
      "metadata": {
        "id": "xKm1Rik8CpGF"
      },
      "source": [
        "import numpy as np"
      ],
      "execution_count": 1,
      "outputs": []
    },
    {
      "cell_type": "code",
      "metadata": {
        "colab": {
          "base_uri": "https://localhost:8080/"
        },
        "id": "B1A2A9TADSSp",
        "outputId": "822ff754-bb29-49fd-9de8-03897a226869"
      },
      "source": [
        "arr = np.array([2,3,4])\n",
        "arr"
      ],
      "execution_count": 2,
      "outputs": [
        {
          "output_type": "execute_result",
          "data": {
            "text/plain": [
              "array([2, 3, 4])"
            ]
          },
          "metadata": {
            "tags": []
          },
          "execution_count": 2
        }
      ]
    },
    {
      "cell_type": "code",
      "metadata": {
        "colab": {
          "base_uri": "https://localhost:8080/"
        },
        "id": "dZLGkNnSD7mP",
        "outputId": "bc0d23f2-80d2-4047-edf6-25d3fd649443"
      },
      "source": [
        "mat = np.array([[2,3,4],[4,5,6]])\n",
        "mat"
      ],
      "execution_count": 9,
      "outputs": [
        {
          "output_type": "execute_result",
          "data": {
            "text/plain": [
              "array([[2, 3, 4],\n",
              "       [4, 5, 6]])"
            ]
          },
          "metadata": {
            "tags": []
          },
          "execution_count": 9
        }
      ]
    },
    {
      "cell_type": "code",
      "metadata": {
        "colab": {
          "base_uri": "https://localhost:8080/"
        },
        "id": "-khCTyI4FIg7",
        "outputId": "5f7ae1de-ad55-4127-951a-abe308483363"
      },
      "source": [
        "arr.shape"
      ],
      "execution_count": 8,
      "outputs": [
        {
          "output_type": "execute_result",
          "data": {
            "text/plain": [
              "(3,)"
            ]
          },
          "metadata": {
            "tags": []
          },
          "execution_count": 8
        }
      ]
    },
    {
      "cell_type": "code",
      "metadata": {
        "colab": {
          "base_uri": "https://localhost:8080/"
        },
        "id": "toMmR89OFMa8",
        "outputId": "6f0ce1de-a84d-40af-e54d-5e1a638dd602"
      },
      "source": [
        "mat.shape"
      ],
      "execution_count": 7,
      "outputs": [
        {
          "output_type": "execute_result",
          "data": {
            "text/plain": [
              "(2, 2)"
            ]
          },
          "metadata": {
            "tags": []
          },
          "execution_count": 7
        }
      ]
    },
    {
      "cell_type": "markdown",
      "metadata": {
        "id": "MvMy5DnuF-H0"
      },
      "source": [
        "#Operasi Array"
      ]
    },
    {
      "cell_type": "code",
      "metadata": {
        "colab": {
          "base_uri": "https://localhost:8080/"
        },
        "id": "mAOv1XTjFP70",
        "outputId": "5b1052bb-b840-42e8-abfc-423e73a31f55"
      },
      "source": [
        "a = np.array([2,3,4])\n",
        "b = np.array([3,4,5])\n",
        "\n",
        "a-b"
      ],
      "execution_count": 19,
      "outputs": [
        {
          "output_type": "execute_result",
          "data": {
            "text/plain": [
              "array([-1, -1, -1])"
            ]
          },
          "metadata": {
            "tags": []
          },
          "execution_count": 19
        }
      ]
    },
    {
      "cell_type": "code",
      "metadata": {
        "colab": {
          "base_uri": "https://localhost:8080/"
        },
        "id": "Sq7RfWbTHjtj",
        "outputId": "f5565f59-0590-4a90-cbf6-bc519a6e6bd9"
      },
      "source": [
        "a/b"
      ],
      "execution_count": 20,
      "outputs": [
        {
          "output_type": "execute_result",
          "data": {
            "text/plain": [
              "array([0.66666667, 0.75      , 0.8       ])"
            ]
          },
          "metadata": {
            "tags": []
          },
          "execution_count": 20
        }
      ]
    },
    {
      "cell_type": "code",
      "metadata": {
        "colab": {
          "base_uri": "https://localhost:8080/"
        },
        "id": "jCF36O1AGB3m",
        "outputId": "ecb96afc-6bb4-4df5-c217-80386c975653"
      },
      "source": [
        "a*b"
      ],
      "execution_count": 10,
      "outputs": [
        {
          "output_type": "execute_result",
          "data": {
            "text/plain": [
              "array([ 6, 12, 20])"
            ]
          },
          "metadata": {
            "tags": []
          },
          "execution_count": 10
        }
      ]
    },
    {
      "cell_type": "code",
      "metadata": {
        "colab": {
          "base_uri": "https://localhost:8080/"
        },
        "id": "pvhoXXFdGPe0",
        "outputId": "1dedbd0c-cea1-40bf-bed5-eef93859ab8c"
      },
      "source": [
        "a[0]"
      ],
      "execution_count": 11,
      "outputs": [
        {
          "output_type": "execute_result",
          "data": {
            "text/plain": [
              "2"
            ]
          },
          "metadata": {
            "tags": []
          },
          "execution_count": 11
        }
      ]
    },
    {
      "cell_type": "code",
      "metadata": {
        "colab": {
          "base_uri": "https://localhost:8080/"
        },
        "id": "w2-I3iOMGTIJ",
        "outputId": "1b4c774e-f379-4787-da0a-8dfe22fd810e"
      },
      "source": [
        "a = np.array([[2,3],[5,6],[1,2]])\n",
        "a"
      ],
      "execution_count": 15,
      "outputs": [
        {
          "output_type": "execute_result",
          "data": {
            "text/plain": [
              "array([[2, 3],\n",
              "       [5, 6],\n",
              "       [1, 2]])"
            ]
          },
          "metadata": {
            "tags": []
          },
          "execution_count": 15
        }
      ]
    },
    {
      "cell_type": "code",
      "metadata": {
        "colab": {
          "base_uri": "https://localhost:8080/"
        },
        "id": "5Hm2WPNxGlbv",
        "outputId": "909be055-15cf-4028-ee91-450453137a0f"
      },
      "source": [
        "a[1][1]"
      ],
      "execution_count": 16,
      "outputs": [
        {
          "output_type": "execute_result",
          "data": {
            "text/plain": [
              "6"
            ]
          },
          "metadata": {
            "tags": []
          },
          "execution_count": 16
        }
      ]
    },
    {
      "cell_type": "code",
      "metadata": {
        "colab": {
          "base_uri": "https://localhost:8080/"
        },
        "id": "7ba-HLPDGvbQ",
        "outputId": "bdc86a21-fa7f-4ee0-a4a7-cf36107157df"
      },
      "source": [
        "a[2,1]"
      ],
      "execution_count": 17,
      "outputs": [
        {
          "output_type": "execute_result",
          "data": {
            "text/plain": [
              "2"
            ]
          },
          "metadata": {
            "tags": []
          },
          "execution_count": 17
        }
      ]
    },
    {
      "cell_type": "markdown",
      "metadata": {
        "id": "yfbSQz0sH-1P"
      },
      "source": [
        "#Pandas"
      ]
    },
    {
      "cell_type": "code",
      "metadata": {
        "id": "mxmKycxzG9PR"
      },
      "source": [
        "import pandas as pd"
      ],
      "execution_count": 22,
      "outputs": []
    },
    {
      "cell_type": "code",
      "metadata": {
        "colab": {
          "base_uri": "https://localhost:8080/",
          "height": 309
        },
        "id": "DGOVhoSAJg3C",
        "outputId": "40e4a493-824d-4b46-81b0-a187e0f1f193"
      },
      "source": [
        "data_cuaca = pd.read_csv('JaipurFinalCleanData.csv')\n",
        "data_cuaca.head()"
      ],
      "execution_count": 23,
      "outputs": [
        {
          "output_type": "execute_result",
          "data": {
            "text/html": [
              "<div>\n",
              "<style scoped>\n",
              "    .dataframe tbody tr th:only-of-type {\n",
              "        vertical-align: middle;\n",
              "    }\n",
              "\n",
              "    .dataframe tbody tr th {\n",
              "        vertical-align: top;\n",
              "    }\n",
              "\n",
              "    .dataframe thead th {\n",
              "        text-align: right;\n",
              "    }\n",
              "</style>\n",
              "<table border=\"1\" class=\"dataframe\">\n",
              "  <thead>\n",
              "    <tr style=\"text-align: right;\">\n",
              "      <th></th>\n",
              "      <th>date</th>\n",
              "      <th>mean_temperature</th>\n",
              "      <th>max_temperature</th>\n",
              "      <th>min_temperature</th>\n",
              "      <th>Mean_dew_pt</th>\n",
              "      <th>mean_pressure</th>\n",
              "      <th>max_humidity</th>\n",
              "      <th>min_humidity</th>\n",
              "      <th>max_dew_pt_1</th>\n",
              "      <th>max_dew_pt_2</th>\n",
              "      <th>min_dew_pt_1</th>\n",
              "      <th>min_dew_pt_2</th>\n",
              "      <th>max_pressure_1</th>\n",
              "      <th>max_pressure_2</th>\n",
              "      <th>min_pressure_1</th>\n",
              "      <th>min_pressure_2</th>\n",
              "      <th>rainfall</th>\n",
              "    </tr>\n",
              "  </thead>\n",
              "  <tbody>\n",
              "    <tr>\n",
              "      <th>0</th>\n",
              "      <td>2016-05-04</td>\n",
              "      <td>34</td>\n",
              "      <td>41</td>\n",
              "      <td>27</td>\n",
              "      <td>6</td>\n",
              "      <td>1006.00</td>\n",
              "      <td>27</td>\n",
              "      <td>5</td>\n",
              "      <td>12</td>\n",
              "      <td>10</td>\n",
              "      <td>-2</td>\n",
              "      <td>-2</td>\n",
              "      <td>1009</td>\n",
              "      <td>1008</td>\n",
              "      <td>1000</td>\n",
              "      <td>1001</td>\n",
              "      <td>0.0</td>\n",
              "    </tr>\n",
              "    <tr>\n",
              "      <th>1</th>\n",
              "      <td>2016-05-05</td>\n",
              "      <td>31</td>\n",
              "      <td>38</td>\n",
              "      <td>24</td>\n",
              "      <td>7</td>\n",
              "      <td>1005.65</td>\n",
              "      <td>29</td>\n",
              "      <td>6</td>\n",
              "      <td>13</td>\n",
              "      <td>12</td>\n",
              "      <td>0</td>\n",
              "      <td>-2</td>\n",
              "      <td>1008</td>\n",
              "      <td>1009</td>\n",
              "      <td>1001</td>\n",
              "      <td>1000</td>\n",
              "      <td>0.0</td>\n",
              "    </tr>\n",
              "    <tr>\n",
              "      <th>2</th>\n",
              "      <td>2016-05-06</td>\n",
              "      <td>28</td>\n",
              "      <td>34</td>\n",
              "      <td>21</td>\n",
              "      <td>11</td>\n",
              "      <td>1007.94</td>\n",
              "      <td>61</td>\n",
              "      <td>13</td>\n",
              "      <td>16</td>\n",
              "      <td>13</td>\n",
              "      <td>6</td>\n",
              "      <td>0</td>\n",
              "      <td>1011</td>\n",
              "      <td>1008</td>\n",
              "      <td>1003</td>\n",
              "      <td>1001</td>\n",
              "      <td>5.0</td>\n",
              "    </tr>\n",
              "    <tr>\n",
              "      <th>3</th>\n",
              "      <td>2016-05-07</td>\n",
              "      <td>30</td>\n",
              "      <td>38</td>\n",
              "      <td>23</td>\n",
              "      <td>13</td>\n",
              "      <td>1008.39</td>\n",
              "      <td>69</td>\n",
              "      <td>18</td>\n",
              "      <td>17</td>\n",
              "      <td>16</td>\n",
              "      <td>9</td>\n",
              "      <td>6</td>\n",
              "      <td>1011</td>\n",
              "      <td>1011</td>\n",
              "      <td>1004</td>\n",
              "      <td>1003</td>\n",
              "      <td>0.0</td>\n",
              "    </tr>\n",
              "    <tr>\n",
              "      <th>4</th>\n",
              "      <td>2016-05-08</td>\n",
              "      <td>34</td>\n",
              "      <td>41</td>\n",
              "      <td>26</td>\n",
              "      <td>10</td>\n",
              "      <td>1007.62</td>\n",
              "      <td>50</td>\n",
              "      <td>8</td>\n",
              "      <td>14</td>\n",
              "      <td>17</td>\n",
              "      <td>6</td>\n",
              "      <td>9</td>\n",
              "      <td>1010</td>\n",
              "      <td>1011</td>\n",
              "      <td>1002</td>\n",
              "      <td>1004</td>\n",
              "      <td>0.0</td>\n",
              "    </tr>\n",
              "  </tbody>\n",
              "</table>\n",
              "</div>"
            ],
            "text/plain": [
              "         date  mean_temperature  ...  min_pressure_2  rainfall\n",
              "0  2016-05-04                34  ...            1001       0.0\n",
              "1  2016-05-05                31  ...            1000       0.0\n",
              "2  2016-05-06                28  ...            1001       5.0\n",
              "3  2016-05-07                30  ...            1003       0.0\n",
              "4  2016-05-08                34  ...            1004       0.0\n",
              "\n",
              "[5 rows x 17 columns]"
            ]
          },
          "metadata": {
            "tags": []
          },
          "execution_count": 23
        }
      ]
    },
    {
      "cell_type": "code",
      "metadata": {
        "colab": {
          "base_uri": "https://localhost:8080/"
        },
        "id": "XRLsMPB-Mc1g",
        "outputId": "539472f8-7363-42e5-b327-7593ac24cb24"
      },
      "source": [
        "data_cuaca['mean_temperature']"
      ],
      "execution_count": 24,
      "outputs": [
        {
          "output_type": "execute_result",
          "data": {
            "text/plain": [
              "0      34\n",
              "1      31\n",
              "2      28\n",
              "3      30\n",
              "4      34\n",
              "       ..\n",
              "671    24\n",
              "672    24\n",
              "673    26\n",
              "674    26\n",
              "675    26\n",
              "Name: mean_temperature, Length: 676, dtype: int64"
            ]
          },
          "metadata": {
            "tags": []
          },
          "execution_count": 24
        }
      ]
    },
    {
      "cell_type": "code",
      "metadata": {
        "colab": {
          "base_uri": "https://localhost:8080/",
          "height": 419
        },
        "id": "Cab2X9uSNGw1",
        "outputId": "b9b252ae-cd5f-464b-82fa-e814bcde4da9"
      },
      "source": [
        "data_cuaca[['date','mean_temperature','max_temperature','min_temperature']]"
      ],
      "execution_count": 25,
      "outputs": [
        {
          "output_type": "execute_result",
          "data": {
            "text/html": [
              "<div>\n",
              "<style scoped>\n",
              "    .dataframe tbody tr th:only-of-type {\n",
              "        vertical-align: middle;\n",
              "    }\n",
              "\n",
              "    .dataframe tbody tr th {\n",
              "        vertical-align: top;\n",
              "    }\n",
              "\n",
              "    .dataframe thead th {\n",
              "        text-align: right;\n",
              "    }\n",
              "</style>\n",
              "<table border=\"1\" class=\"dataframe\">\n",
              "  <thead>\n",
              "    <tr style=\"text-align: right;\">\n",
              "      <th></th>\n",
              "      <th>date</th>\n",
              "      <th>mean_temperature</th>\n",
              "      <th>max_temperature</th>\n",
              "      <th>min_temperature</th>\n",
              "    </tr>\n",
              "  </thead>\n",
              "  <tbody>\n",
              "    <tr>\n",
              "      <th>0</th>\n",
              "      <td>2016-05-04</td>\n",
              "      <td>34</td>\n",
              "      <td>41</td>\n",
              "      <td>27</td>\n",
              "    </tr>\n",
              "    <tr>\n",
              "      <th>1</th>\n",
              "      <td>2016-05-05</td>\n",
              "      <td>31</td>\n",
              "      <td>38</td>\n",
              "      <td>24</td>\n",
              "    </tr>\n",
              "    <tr>\n",
              "      <th>2</th>\n",
              "      <td>2016-05-06</td>\n",
              "      <td>28</td>\n",
              "      <td>34</td>\n",
              "      <td>21</td>\n",
              "    </tr>\n",
              "    <tr>\n",
              "      <th>3</th>\n",
              "      <td>2016-05-07</td>\n",
              "      <td>30</td>\n",
              "      <td>38</td>\n",
              "      <td>23</td>\n",
              "    </tr>\n",
              "    <tr>\n",
              "      <th>4</th>\n",
              "      <td>2016-05-08</td>\n",
              "      <td>34</td>\n",
              "      <td>41</td>\n",
              "      <td>26</td>\n",
              "    </tr>\n",
              "    <tr>\n",
              "      <th>...</th>\n",
              "      <td>...</td>\n",
              "      <td>...</td>\n",
              "      <td>...</td>\n",
              "      <td>...</td>\n",
              "    </tr>\n",
              "    <tr>\n",
              "      <th>671</th>\n",
              "      <td>2018-03-07</td>\n",
              "      <td>24</td>\n",
              "      <td>32</td>\n",
              "      <td>15</td>\n",
              "    </tr>\n",
              "    <tr>\n",
              "      <th>672</th>\n",
              "      <td>2018-03-08</td>\n",
              "      <td>24</td>\n",
              "      <td>32</td>\n",
              "      <td>15</td>\n",
              "    </tr>\n",
              "    <tr>\n",
              "      <th>673</th>\n",
              "      <td>2018-03-09</td>\n",
              "      <td>26</td>\n",
              "      <td>33</td>\n",
              "      <td>19</td>\n",
              "    </tr>\n",
              "    <tr>\n",
              "      <th>674</th>\n",
              "      <td>2018-03-10</td>\n",
              "      <td>26</td>\n",
              "      <td>34</td>\n",
              "      <td>19</td>\n",
              "    </tr>\n",
              "    <tr>\n",
              "      <th>675</th>\n",
              "      <td>2018-03-11</td>\n",
              "      <td>26</td>\n",
              "      <td>34</td>\n",
              "      <td>18</td>\n",
              "    </tr>\n",
              "  </tbody>\n",
              "</table>\n",
              "<p>676 rows × 4 columns</p>\n",
              "</div>"
            ],
            "text/plain": [
              "           date  mean_temperature  max_temperature  min_temperature\n",
              "0    2016-05-04                34               41               27\n",
              "1    2016-05-05                31               38               24\n",
              "2    2016-05-06                28               34               21\n",
              "3    2016-05-07                30               38               23\n",
              "4    2016-05-08                34               41               26\n",
              "..          ...               ...              ...              ...\n",
              "671  2018-03-07                24               32               15\n",
              "672  2018-03-08                24               32               15\n",
              "673  2018-03-09                26               33               19\n",
              "674  2018-03-10                26               34               19\n",
              "675  2018-03-11                26               34               18\n",
              "\n",
              "[676 rows x 4 columns]"
            ]
          },
          "metadata": {
            "tags": []
          },
          "execution_count": 25
        }
      ]
    },
    {
      "cell_type": "code",
      "metadata": {
        "colab": {
          "base_uri": "https://localhost:8080/"
        },
        "id": "9AJX60jbPTsb",
        "outputId": "c23a9447-9893-4ae1-e2b1-0b828a24445a"
      },
      "source": [
        "data_cuaca.info()"
      ],
      "execution_count": 26,
      "outputs": [
        {
          "output_type": "stream",
          "text": [
            "<class 'pandas.core.frame.DataFrame'>\n",
            "RangeIndex: 676 entries, 0 to 675\n",
            "Data columns (total 17 columns):\n",
            " #   Column            Non-Null Count  Dtype  \n",
            "---  ------            --------------  -----  \n",
            " 0   date              676 non-null    object \n",
            " 1   mean_temperature  676 non-null    int64  \n",
            " 2   max_temperature   676 non-null    int64  \n",
            " 3   min_temperature   676 non-null    int64  \n",
            " 4   Mean_dew_pt       676 non-null    int64  \n",
            " 5   mean_pressure     676 non-null    float64\n",
            " 6   max_humidity      676 non-null    int64  \n",
            " 7   min_humidity      676 non-null    int64  \n",
            " 8   max_dew_pt_1      676 non-null    int64  \n",
            " 9   max_dew_pt_2      676 non-null    int64  \n",
            " 10  min_dew_pt_1      676 non-null    int64  \n",
            " 11  min_dew_pt_2      676 non-null    int64  \n",
            " 12  max_pressure_1    676 non-null    int64  \n",
            " 13  max_pressure_2    676 non-null    int64  \n",
            " 14  min_pressure_1    676 non-null    int64  \n",
            " 15  min_pressure_2    676 non-null    int64  \n",
            " 16  rainfall          676 non-null    float64\n",
            "dtypes: float64(2), int64(14), object(1)\n",
            "memory usage: 89.9+ KB\n"
          ],
          "name": "stdout"
        }
      ]
    },
    {
      "cell_type": "code",
      "metadata": {
        "colab": {
          "base_uri": "https://localhost:8080/",
          "height": 309
        },
        "id": "i2d-JPG-Pz2t",
        "outputId": "be3f5110-f962-46e9-ebe7-e15151263ff3"
      },
      "source": [
        "data_cuaca.head()"
      ],
      "execution_count": 27,
      "outputs": [
        {
          "output_type": "execute_result",
          "data": {
            "text/html": [
              "<div>\n",
              "<style scoped>\n",
              "    .dataframe tbody tr th:only-of-type {\n",
              "        vertical-align: middle;\n",
              "    }\n",
              "\n",
              "    .dataframe tbody tr th {\n",
              "        vertical-align: top;\n",
              "    }\n",
              "\n",
              "    .dataframe thead th {\n",
              "        text-align: right;\n",
              "    }\n",
              "</style>\n",
              "<table border=\"1\" class=\"dataframe\">\n",
              "  <thead>\n",
              "    <tr style=\"text-align: right;\">\n",
              "      <th></th>\n",
              "      <th>date</th>\n",
              "      <th>mean_temperature</th>\n",
              "      <th>max_temperature</th>\n",
              "      <th>min_temperature</th>\n",
              "      <th>Mean_dew_pt</th>\n",
              "      <th>mean_pressure</th>\n",
              "      <th>max_humidity</th>\n",
              "      <th>min_humidity</th>\n",
              "      <th>max_dew_pt_1</th>\n",
              "      <th>max_dew_pt_2</th>\n",
              "      <th>min_dew_pt_1</th>\n",
              "      <th>min_dew_pt_2</th>\n",
              "      <th>max_pressure_1</th>\n",
              "      <th>max_pressure_2</th>\n",
              "      <th>min_pressure_1</th>\n",
              "      <th>min_pressure_2</th>\n",
              "      <th>rainfall</th>\n",
              "    </tr>\n",
              "  </thead>\n",
              "  <tbody>\n",
              "    <tr>\n",
              "      <th>0</th>\n",
              "      <td>2016-05-04</td>\n",
              "      <td>34</td>\n",
              "      <td>41</td>\n",
              "      <td>27</td>\n",
              "      <td>6</td>\n",
              "      <td>1006.00</td>\n",
              "      <td>27</td>\n",
              "      <td>5</td>\n",
              "      <td>12</td>\n",
              "      <td>10</td>\n",
              "      <td>-2</td>\n",
              "      <td>-2</td>\n",
              "      <td>1009</td>\n",
              "      <td>1008</td>\n",
              "      <td>1000</td>\n",
              "      <td>1001</td>\n",
              "      <td>0.0</td>\n",
              "    </tr>\n",
              "    <tr>\n",
              "      <th>1</th>\n",
              "      <td>2016-05-05</td>\n",
              "      <td>31</td>\n",
              "      <td>38</td>\n",
              "      <td>24</td>\n",
              "      <td>7</td>\n",
              "      <td>1005.65</td>\n",
              "      <td>29</td>\n",
              "      <td>6</td>\n",
              "      <td>13</td>\n",
              "      <td>12</td>\n",
              "      <td>0</td>\n",
              "      <td>-2</td>\n",
              "      <td>1008</td>\n",
              "      <td>1009</td>\n",
              "      <td>1001</td>\n",
              "      <td>1000</td>\n",
              "      <td>0.0</td>\n",
              "    </tr>\n",
              "    <tr>\n",
              "      <th>2</th>\n",
              "      <td>2016-05-06</td>\n",
              "      <td>28</td>\n",
              "      <td>34</td>\n",
              "      <td>21</td>\n",
              "      <td>11</td>\n",
              "      <td>1007.94</td>\n",
              "      <td>61</td>\n",
              "      <td>13</td>\n",
              "      <td>16</td>\n",
              "      <td>13</td>\n",
              "      <td>6</td>\n",
              "      <td>0</td>\n",
              "      <td>1011</td>\n",
              "      <td>1008</td>\n",
              "      <td>1003</td>\n",
              "      <td>1001</td>\n",
              "      <td>5.0</td>\n",
              "    </tr>\n",
              "    <tr>\n",
              "      <th>3</th>\n",
              "      <td>2016-05-07</td>\n",
              "      <td>30</td>\n",
              "      <td>38</td>\n",
              "      <td>23</td>\n",
              "      <td>13</td>\n",
              "      <td>1008.39</td>\n",
              "      <td>69</td>\n",
              "      <td>18</td>\n",
              "      <td>17</td>\n",
              "      <td>16</td>\n",
              "      <td>9</td>\n",
              "      <td>6</td>\n",
              "      <td>1011</td>\n",
              "      <td>1011</td>\n",
              "      <td>1004</td>\n",
              "      <td>1003</td>\n",
              "      <td>0.0</td>\n",
              "    </tr>\n",
              "    <tr>\n",
              "      <th>4</th>\n",
              "      <td>2016-05-08</td>\n",
              "      <td>34</td>\n",
              "      <td>41</td>\n",
              "      <td>26</td>\n",
              "      <td>10</td>\n",
              "      <td>1007.62</td>\n",
              "      <td>50</td>\n",
              "      <td>8</td>\n",
              "      <td>14</td>\n",
              "      <td>17</td>\n",
              "      <td>6</td>\n",
              "      <td>9</td>\n",
              "      <td>1010</td>\n",
              "      <td>1011</td>\n",
              "      <td>1002</td>\n",
              "      <td>1004</td>\n",
              "      <td>0.0</td>\n",
              "    </tr>\n",
              "  </tbody>\n",
              "</table>\n",
              "</div>"
            ],
            "text/plain": [
              "         date  mean_temperature  ...  min_pressure_2  rainfall\n",
              "0  2016-05-04                34  ...            1001       0.0\n",
              "1  2016-05-05                31  ...            1000       0.0\n",
              "2  2016-05-06                28  ...            1001       5.0\n",
              "3  2016-05-07                30  ...            1003       0.0\n",
              "4  2016-05-08                34  ...            1004       0.0\n",
              "\n",
              "[5 rows x 17 columns]"
            ]
          },
          "metadata": {
            "tags": []
          },
          "execution_count": 27
        }
      ]
    },
    {
      "cell_type": "code",
      "metadata": {
        "colab": {
          "base_uri": "https://localhost:8080/"
        },
        "id": "NxCLI44_QAY4",
        "outputId": "6edf42b1-d559-4984-9ec0-1f022a637bb3"
      },
      "source": [
        "suhu_terdingin = np.min(data_cuaca['min_temperature'])\n",
        "suhu_terdingin"
      ],
      "execution_count": 28,
      "outputs": [
        {
          "output_type": "execute_result",
          "data": {
            "text/plain": [
              "3"
            ]
          },
          "metadata": {
            "tags": []
          },
          "execution_count": 28
        }
      ]
    },
    {
      "cell_type": "code",
      "metadata": {
        "colab": {
          "base_uri": "https://localhost:8080/",
          "height": 117
        },
        "id": "-gIoZopmQgeT",
        "outputId": "0ca0c851-f770-42e0-92ae-c51ffda00357"
      },
      "source": [
        "data_cuaca[data_cuaca['min_temperature'] == suhu_terdingin]"
      ],
      "execution_count": 29,
      "outputs": [
        {
          "output_type": "execute_result",
          "data": {
            "text/html": [
              "<div>\n",
              "<style scoped>\n",
              "    .dataframe tbody tr th:only-of-type {\n",
              "        vertical-align: middle;\n",
              "    }\n",
              "\n",
              "    .dataframe tbody tr th {\n",
              "        vertical-align: top;\n",
              "    }\n",
              "\n",
              "    .dataframe thead th {\n",
              "        text-align: right;\n",
              "    }\n",
              "</style>\n",
              "<table border=\"1\" class=\"dataframe\">\n",
              "  <thead>\n",
              "    <tr style=\"text-align: right;\">\n",
              "      <th></th>\n",
              "      <th>date</th>\n",
              "      <th>mean_temperature</th>\n",
              "      <th>max_temperature</th>\n",
              "      <th>min_temperature</th>\n",
              "      <th>Mean_dew_pt</th>\n",
              "      <th>mean_pressure</th>\n",
              "      <th>max_humidity</th>\n",
              "      <th>min_humidity</th>\n",
              "      <th>max_dew_pt_1</th>\n",
              "      <th>max_dew_pt_2</th>\n",
              "      <th>min_dew_pt_1</th>\n",
              "      <th>min_dew_pt_2</th>\n",
              "      <th>max_pressure_1</th>\n",
              "      <th>max_pressure_2</th>\n",
              "      <th>min_pressure_1</th>\n",
              "      <th>min_pressure_2</th>\n",
              "      <th>rainfall</th>\n",
              "    </tr>\n",
              "  </thead>\n",
              "  <tbody>\n",
              "    <tr>\n",
              "      <th>252</th>\n",
              "      <td>2017-01-11</td>\n",
              "      <td>10</td>\n",
              "      <td>18</td>\n",
              "      <td>3</td>\n",
              "      <td>3</td>\n",
              "      <td>1017.0</td>\n",
              "      <td>94</td>\n",
              "      <td>17</td>\n",
              "      <td>9</td>\n",
              "      <td>10</td>\n",
              "      <td>-5</td>\n",
              "      <td>-1</td>\n",
              "      <td>1019</td>\n",
              "      <td>1018</td>\n",
              "      <td>1015</td>\n",
              "      <td>1014</td>\n",
              "      <td>0.0</td>\n",
              "    </tr>\n",
              "  </tbody>\n",
              "</table>\n",
              "</div>"
            ],
            "text/plain": [
              "           date  mean_temperature  ...  min_pressure_2  rainfall\n",
              "252  2017-01-11                10  ...            1014       0.0\n",
              "\n",
              "[1 rows x 17 columns]"
            ]
          },
          "metadata": {
            "tags": []
          },
          "execution_count": 29
        }
      ]
    },
    {
      "cell_type": "code",
      "metadata": {
        "colab": {
          "base_uri": "https://localhost:8080/"
        },
        "id": "QRdLYuwxQ7CS",
        "outputId": "a7964747-bf35-4685-adb3-1dd69ab787ae"
      },
      "source": [
        "suhu_tertinggi = np.max(data_cuaca['max_temperature'])\n",
        "suhu_tertinggi"
      ],
      "execution_count": 30,
      "outputs": [
        {
          "output_type": "execute_result",
          "data": {
            "text/plain": [
              "46"
            ]
          },
          "metadata": {
            "tags": []
          },
          "execution_count": 30
        }
      ]
    },
    {
      "cell_type": "code",
      "metadata": {
        "colab": {
          "base_uri": "https://localhost:8080/",
          "height": 165
        },
        "id": "W4_hxnnqRHs-",
        "outputId": "5d08b1c8-a305-4594-de8f-65c1e0f51a24"
      },
      "source": [
        "data_cuaca[data_cuaca['max_temperature'] == suhu_tertinggi]"
      ],
      "execution_count": 31,
      "outputs": [
        {
          "output_type": "execute_result",
          "data": {
            "text/html": [
              "<div>\n",
              "<style scoped>\n",
              "    .dataframe tbody tr th:only-of-type {\n",
              "        vertical-align: middle;\n",
              "    }\n",
              "\n",
              "    .dataframe tbody tr th {\n",
              "        vertical-align: top;\n",
              "    }\n",
              "\n",
              "    .dataframe thead th {\n",
              "        text-align: right;\n",
              "    }\n",
              "</style>\n",
              "<table border=\"1\" class=\"dataframe\">\n",
              "  <thead>\n",
              "    <tr style=\"text-align: right;\">\n",
              "      <th></th>\n",
              "      <th>date</th>\n",
              "      <th>mean_temperature</th>\n",
              "      <th>max_temperature</th>\n",
              "      <th>min_temperature</th>\n",
              "      <th>Mean_dew_pt</th>\n",
              "      <th>mean_pressure</th>\n",
              "      <th>max_humidity</th>\n",
              "      <th>min_humidity</th>\n",
              "      <th>max_dew_pt_1</th>\n",
              "      <th>max_dew_pt_2</th>\n",
              "      <th>min_dew_pt_1</th>\n",
              "      <th>min_dew_pt_2</th>\n",
              "      <th>max_pressure_1</th>\n",
              "      <th>max_pressure_2</th>\n",
              "      <th>min_pressure_1</th>\n",
              "      <th>min_pressure_2</th>\n",
              "      <th>rainfall</th>\n",
              "    </tr>\n",
              "  </thead>\n",
              "  <tbody>\n",
              "    <tr>\n",
              "      <th>15</th>\n",
              "      <td>2016-05-19</td>\n",
              "      <td>38</td>\n",
              "      <td>46</td>\n",
              "      <td>29</td>\n",
              "      <td>11</td>\n",
              "      <td>999.88</td>\n",
              "      <td>45</td>\n",
              "      <td>5</td>\n",
              "      <td>17</td>\n",
              "      <td>16</td>\n",
              "      <td>6</td>\n",
              "      <td>10</td>\n",
              "      <td>1002</td>\n",
              "      <td>1010</td>\n",
              "      <td>994</td>\n",
              "      <td>995</td>\n",
              "      <td>0.0</td>\n",
              "    </tr>\n",
              "    <tr>\n",
              "      <th>16</th>\n",
              "      <td>2016-05-20</td>\n",
              "      <td>38</td>\n",
              "      <td>46</td>\n",
              "      <td>30</td>\n",
              "      <td>6</td>\n",
              "      <td>998.96</td>\n",
              "      <td>33</td>\n",
              "      <td>4</td>\n",
              "      <td>13</td>\n",
              "      <td>17</td>\n",
              "      <td>-2</td>\n",
              "      <td>6</td>\n",
              "      <td>1002</td>\n",
              "      <td>1002</td>\n",
              "      <td>994</td>\n",
              "      <td>994</td>\n",
              "      <td>0.0</td>\n",
              "    </tr>\n",
              "  </tbody>\n",
              "</table>\n",
              "</div>"
            ],
            "text/plain": [
              "          date  mean_temperature  ...  min_pressure_2  rainfall\n",
              "15  2016-05-19                38  ...             995       0.0\n",
              "16  2016-05-20                38  ...             994       0.0\n",
              "\n",
              "[2 rows x 17 columns]"
            ]
          },
          "metadata": {
            "tags": []
          },
          "execution_count": 31
        }
      ]
    },
    {
      "cell_type": "code",
      "metadata": {
        "colab": {
          "base_uri": "https://localhost:8080/"
        },
        "id": "Oa1LaYwTUKl2",
        "outputId": "a4c85033-55e0-4aa7-ab28-4bab1499dc37"
      },
      "source": [
        "np.mean(data_cuaca['mean_temperature'])"
      ],
      "execution_count": 34,
      "outputs": [
        {
          "output_type": "execute_result",
          "data": {
            "text/plain": [
              "26.05325443786982"
            ]
          },
          "metadata": {
            "tags": []
          },
          "execution_count": 34
        }
      ]
    },
    {
      "cell_type": "code",
      "metadata": {
        "colab": {
          "base_uri": "https://localhost:8080/",
          "height": 609
        },
        "id": "c2czKyvdR9Ff",
        "outputId": "27a3d05b-c3b0-4acd-c226-0635fe3ac676"
      },
      "source": [
        "kondisi = np.logical_and(data_cuaca['mean_temperature'] >= 10, data_cuaca['mean_temperature'] <= 20)\n",
        "data_cuaca[kondisi]"
      ],
      "execution_count": 33,
      "outputs": [
        {
          "output_type": "execute_result",
          "data": {
            "text/html": [
              "<div>\n",
              "<style scoped>\n",
              "    .dataframe tbody tr th:only-of-type {\n",
              "        vertical-align: middle;\n",
              "    }\n",
              "\n",
              "    .dataframe tbody tr th {\n",
              "        vertical-align: top;\n",
              "    }\n",
              "\n",
              "    .dataframe thead th {\n",
              "        text-align: right;\n",
              "    }\n",
              "</style>\n",
              "<table border=\"1\" class=\"dataframe\">\n",
              "  <thead>\n",
              "    <tr style=\"text-align: right;\">\n",
              "      <th></th>\n",
              "      <th>date</th>\n",
              "      <th>mean_temperature</th>\n",
              "      <th>max_temperature</th>\n",
              "      <th>min_temperature</th>\n",
              "      <th>Mean_dew_pt</th>\n",
              "      <th>mean_pressure</th>\n",
              "      <th>max_humidity</th>\n",
              "      <th>min_humidity</th>\n",
              "      <th>max_dew_pt_1</th>\n",
              "      <th>max_dew_pt_2</th>\n",
              "      <th>min_dew_pt_1</th>\n",
              "      <th>min_dew_pt_2</th>\n",
              "      <th>max_pressure_1</th>\n",
              "      <th>max_pressure_2</th>\n",
              "      <th>min_pressure_1</th>\n",
              "      <th>min_pressure_2</th>\n",
              "      <th>rainfall</th>\n",
              "    </tr>\n",
              "  </thead>\n",
              "  <tbody>\n",
              "    <tr>\n",
              "      <th>195</th>\n",
              "      <td>2016-11-15</td>\n",
              "      <td>20</td>\n",
              "      <td>28</td>\n",
              "      <td>12</td>\n",
              "      <td>6</td>\n",
              "      <td>1016.80</td>\n",
              "      <td>55</td>\n",
              "      <td>10</td>\n",
              "      <td>10</td>\n",
              "      <td>11</td>\n",
              "      <td>1</td>\n",
              "      <td>3</td>\n",
              "      <td>1019</td>\n",
              "      <td>1020</td>\n",
              "      <td>1014</td>\n",
              "      <td>1014</td>\n",
              "      <td>0.0</td>\n",
              "    </tr>\n",
              "    <tr>\n",
              "      <th>196</th>\n",
              "      <td>2016-11-16</td>\n",
              "      <td>20</td>\n",
              "      <td>29</td>\n",
              "      <td>12</td>\n",
              "      <td>6</td>\n",
              "      <td>1016.76</td>\n",
              "      <td>63</td>\n",
              "      <td>12</td>\n",
              "      <td>11</td>\n",
              "      <td>10</td>\n",
              "      <td>1</td>\n",
              "      <td>1</td>\n",
              "      <td>1019</td>\n",
              "      <td>1019</td>\n",
              "      <td>1014</td>\n",
              "      <td>1014</td>\n",
              "      <td>0.0</td>\n",
              "    </tr>\n",
              "    <tr>\n",
              "      <th>197</th>\n",
              "      <td>2016-11-17</td>\n",
              "      <td>20</td>\n",
              "      <td>29</td>\n",
              "      <td>12</td>\n",
              "      <td>6</td>\n",
              "      <td>1018.41</td>\n",
              "      <td>59</td>\n",
              "      <td>14</td>\n",
              "      <td>10</td>\n",
              "      <td>11</td>\n",
              "      <td>4</td>\n",
              "      <td>1</td>\n",
              "      <td>1021</td>\n",
              "      <td>1019</td>\n",
              "      <td>1016</td>\n",
              "      <td>1014</td>\n",
              "      <td>0.0</td>\n",
              "    </tr>\n",
              "    <tr>\n",
              "      <th>198</th>\n",
              "      <td>2016-11-18</td>\n",
              "      <td>20</td>\n",
              "      <td>30</td>\n",
              "      <td>11</td>\n",
              "      <td>5</td>\n",
              "      <td>1018.46</td>\n",
              "      <td>63</td>\n",
              "      <td>12</td>\n",
              "      <td>11</td>\n",
              "      <td>10</td>\n",
              "      <td>2</td>\n",
              "      <td>4</td>\n",
              "      <td>1022</td>\n",
              "      <td>1021</td>\n",
              "      <td>1015</td>\n",
              "      <td>1016</td>\n",
              "      <td>0.0</td>\n",
              "    </tr>\n",
              "    <tr>\n",
              "      <th>199</th>\n",
              "      <td>2016-11-19</td>\n",
              "      <td>20</td>\n",
              "      <td>30</td>\n",
              "      <td>11</td>\n",
              "      <td>4</td>\n",
              "      <td>1016.47</td>\n",
              "      <td>72</td>\n",
              "      <td>8</td>\n",
              "      <td>11</td>\n",
              "      <td>11</td>\n",
              "      <td>-1</td>\n",
              "      <td>2</td>\n",
              "      <td>1020</td>\n",
              "      <td>1022</td>\n",
              "      <td>1013</td>\n",
              "      <td>1015</td>\n",
              "      <td>0.0</td>\n",
              "    </tr>\n",
              "    <tr>\n",
              "      <th>...</th>\n",
              "      <td>...</td>\n",
              "      <td>...</td>\n",
              "      <td>...</td>\n",
              "      <td>...</td>\n",
              "      <td>...</td>\n",
              "      <td>...</td>\n",
              "      <td>...</td>\n",
              "      <td>...</td>\n",
              "      <td>...</td>\n",
              "      <td>...</td>\n",
              "      <td>...</td>\n",
              "      <td>...</td>\n",
              "      <td>...</td>\n",
              "      <td>...</td>\n",
              "      <td>...</td>\n",
              "      <td>...</td>\n",
              "      <td>...</td>\n",
              "    </tr>\n",
              "    <tr>\n",
              "      <th>647</th>\n",
              "      <td>2018-02-11</td>\n",
              "      <td>19</td>\n",
              "      <td>23</td>\n",
              "      <td>15</td>\n",
              "      <td>1</td>\n",
              "      <td>1015.86</td>\n",
              "      <td>41</td>\n",
              "      <td>11</td>\n",
              "      <td>5</td>\n",
              "      <td>3</td>\n",
              "      <td>-2</td>\n",
              "      <td>-7</td>\n",
              "      <td>1019</td>\n",
              "      <td>1017</td>\n",
              "      <td>1013</td>\n",
              "      <td>1010</td>\n",
              "      <td>0.0</td>\n",
              "    </tr>\n",
              "    <tr>\n",
              "      <th>648</th>\n",
              "      <td>2018-02-12</td>\n",
              "      <td>18</td>\n",
              "      <td>25</td>\n",
              "      <td>12</td>\n",
              "      <td>5</td>\n",
              "      <td>1014.70</td>\n",
              "      <td>55</td>\n",
              "      <td>18</td>\n",
              "      <td>8</td>\n",
              "      <td>5</td>\n",
              "      <td>2</td>\n",
              "      <td>-2</td>\n",
              "      <td>1017</td>\n",
              "      <td>1019</td>\n",
              "      <td>1012</td>\n",
              "      <td>1013</td>\n",
              "      <td>0.0</td>\n",
              "    </tr>\n",
              "    <tr>\n",
              "      <th>649</th>\n",
              "      <td>2018-02-13</td>\n",
              "      <td>19</td>\n",
              "      <td>25</td>\n",
              "      <td>13</td>\n",
              "      <td>7</td>\n",
              "      <td>1016.98</td>\n",
              "      <td>94</td>\n",
              "      <td>12</td>\n",
              "      <td>15</td>\n",
              "      <td>8</td>\n",
              "      <td>0</td>\n",
              "      <td>2</td>\n",
              "      <td>1021</td>\n",
              "      <td>1017</td>\n",
              "      <td>1014</td>\n",
              "      <td>1012</td>\n",
              "      <td>0.0</td>\n",
              "    </tr>\n",
              "    <tr>\n",
              "      <th>650</th>\n",
              "      <td>2018-02-14</td>\n",
              "      <td>18</td>\n",
              "      <td>24</td>\n",
              "      <td>11</td>\n",
              "      <td>8</td>\n",
              "      <td>1022.53</td>\n",
              "      <td>100</td>\n",
              "      <td>12</td>\n",
              "      <td>14</td>\n",
              "      <td>15</td>\n",
              "      <td>-1</td>\n",
              "      <td>0</td>\n",
              "      <td>1025</td>\n",
              "      <td>1021</td>\n",
              "      <td>1020</td>\n",
              "      <td>1014</td>\n",
              "      <td>0.0</td>\n",
              "    </tr>\n",
              "    <tr>\n",
              "      <th>651</th>\n",
              "      <td>2018-02-15</td>\n",
              "      <td>18</td>\n",
              "      <td>26</td>\n",
              "      <td>11</td>\n",
              "      <td>3</td>\n",
              "      <td>1023.43</td>\n",
              "      <td>54</td>\n",
              "      <td>16</td>\n",
              "      <td>6</td>\n",
              "      <td>14</td>\n",
              "      <td>-4</td>\n",
              "      <td>-1</td>\n",
              "      <td>1026</td>\n",
              "      <td>1025</td>\n",
              "      <td>1020</td>\n",
              "      <td>1020</td>\n",
              "      <td>0.0</td>\n",
              "    </tr>\n",
              "  </tbody>\n",
              "</table>\n",
              "<p>177 rows × 17 columns</p>\n",
              "</div>"
            ],
            "text/plain": [
              "           date  mean_temperature  ...  min_pressure_2  rainfall\n",
              "195  2016-11-15                20  ...            1014       0.0\n",
              "196  2016-11-16                20  ...            1014       0.0\n",
              "197  2016-11-17                20  ...            1014       0.0\n",
              "198  2016-11-18                20  ...            1016       0.0\n",
              "199  2016-11-19                20  ...            1015       0.0\n",
              "..          ...               ...  ...             ...       ...\n",
              "647  2018-02-11                19  ...            1010       0.0\n",
              "648  2018-02-12                18  ...            1013       0.0\n",
              "649  2018-02-13                19  ...            1012       0.0\n",
              "650  2018-02-14                18  ...            1014       0.0\n",
              "651  2018-02-15                18  ...            1020       0.0\n",
              "\n",
              "[177 rows x 17 columns]"
            ]
          },
          "metadata": {
            "tags": []
          },
          "execution_count": 33
        }
      ]
    },
    {
      "cell_type": "markdown",
      "metadata": {
        "id": "iV5uf4HqNumc"
      },
      "source": [
        "#Matplotlib"
      ]
    },
    {
      "cell_type": "code",
      "metadata": {
        "id": "4kH2t778PgdC"
      },
      "source": [
        "import matplotlib.pyplot as plt\n",
        "import seaborn as sns"
      ],
      "execution_count": 35,
      "outputs": []
    },
    {
      "cell_type": "code",
      "metadata": {
        "colab": {
          "base_uri": "https://localhost:8080/",
          "height": 296
        },
        "id": "2hstdoSRU73U",
        "outputId": "557450a5-f142-455a-8626-75629739817b"
      },
      "source": [
        "sns.lineplot(data=data_cuaca, x='date', y='mean_temperature')"
      ],
      "execution_count": 36,
      "outputs": [
        {
          "output_type": "execute_result",
          "data": {
            "text/plain": [
              "<matplotlib.axes._subplots.AxesSubplot at 0x7f80a3a5b790>"
            ]
          },
          "metadata": {
            "tags": []
          },
          "execution_count": 36
        },
        {
          "output_type": "display_data",
          "data": {
            "image/png": "[encoded data removed]",
            "text/plain": [
              "<Figure size 432x288 with 1 Axes>"
            ]
          },
          "metadata": {
            "tags": [],
            "needs_background": "light"
          }
        }
      ]
    }
  ]
}